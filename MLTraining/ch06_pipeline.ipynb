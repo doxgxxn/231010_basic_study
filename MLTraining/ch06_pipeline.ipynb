{
 "cells": [
  {
   "cell_type": "markdown",
   "metadata": {},
   "source": [
    "# Chapter 6. 파이프라인\n",
    "이전 단원까지 배운 여러 가지 전처리 기법은 대부분의 경우 모델 튜닝, 즉 하이퍼파라미터 탐색을 할 때 공통적으로 시행하는 반복 작업~~노가다~~이 될 가능성이 매우 높습니다. 아무리 파일을 복사하고 코드를 복붙한다고 한들 사람이 하는 일이라면 언제나 실수를 할 가능성이 있습니다. 무엇보다도 **번거롭잖아요**. 그래서 이 일련의 과정을 하나의 공정처럼 체계화 및 루틴화시킴으로써 작업을 더욱 편리하게 할 수 있는 방법이 있습니다. 우리는 이 방법론을 **파이프라인**(pipeline)이라고 부르며, 이를 사용하면 여러 개의 변환 단계를 포함해 모델 학습과 새로운 데이터 예측까지 자동화할 수 있습니다. 이번 단원에서는 파이프라인을 이용해 머신러닝 개발이라는 일련의 과정을 자동화하는 연습을 해보겠습니다.  \n",
    "참고로 이 단원 자체의 내용은 아주 단순하고 자체적으로는 실습이랄 것도 없지만, 이후 단원에서도 사용될 예정입니다. 또한 MLOps 과정에 있어서 가장 중요한 업무 자동화의 일환이므로 실무에서도 파이프라인을 많이 사용할 테니 꼭 사이킷런이 아니더라도 에어플로우(Airflow) 등의 툴을 사용할 때도 그 개념을 잘 알아두고 가는 것이 좋습니다."
   ]
  },
  {
   "cell_type": "markdown",
   "metadata": {},
   "source": [
    "## 6.1 들어가기 전에: 위스콘신 유방암 데이터셋\n",
    "이번 단원과 7단원 교차검증에 걸쳐서는 위스콘신 유방암 데이터셋을 사용하겠습니다. 이 데이터셋에는 악성과 양성인 종양 세포 샘플 569개가 들어있습니다. 데이터셋의 첫 두 열에는 샘플의 고유 ID 번호와 진단 결과(`M`: 악성, `B`: 양성)가 들어 있습니다. 3번째부터 32번째 열까지는 세포 핵의 디지털 이미지에서 계산된 30개의 실수 값 특성이 담겨 있습니다. 이 특성을 사용해 종양이 악성인지 양성인지 예측하는 모델을 만들겠습니다."
   ]
  },
  {
   "cell_type": "code",
   "execution_count": 1,
   "metadata": {},
   "outputs": [],
   "source": [
    "import pandas as pd\n",
    "from sklearn.preprocessing import LabelEncoder\n",
    "from sklearn.model_selection import train_test_split"
   ]
  },
  {
   "cell_type": "code",
   "execution_count": 2,
   "metadata": {},
   "outputs": [],
   "source": [
    "df = pd.read_csv('https://archive.ics.uci.edu/ml/machine-learning-databases/breast-cancer-wisconsin/wdbc.data',\n",
    "                 header=None)"
   ]
  },
  {
   "cell_type": "code",
   "execution_count": 3,
   "metadata": {},
   "outputs": [],
   "source": [
    "X = df.loc[:, 2:].values\n",
    "y = df.loc[:, 1].values"
   ]
  },
  {
   "cell_type": "code",
   "execution_count": 4,
   "metadata": {},
   "outputs": [],
   "source": [
    "le = LabelEncoder()"
   ]
  },
  {
   "cell_type": "code",
   "execution_count": 5,
   "metadata": {},
   "outputs": [],
   "source": [
    "y = le.fit_transform(y)"
   ]
  },
  {
   "cell_type": "code",
   "execution_count": 6,
   "metadata": {},
   "outputs": [
    {
     "data": {
      "text/plain": [
       "array(['B', 'M'], dtype=object)"
      ]
     },
     "execution_count": 6,
     "metadata": {},
     "output_type": "execute_result"
    }
   ],
   "source": [
    "le.classes_"
   ]
  },
  {
   "cell_type": "code",
   "execution_count": 7,
   "metadata": {},
   "outputs": [
    {
     "data": {
      "text/plain": [
       "array([1, 0])"
      ]
     },
     "execution_count": 7,
     "metadata": {},
     "output_type": "execute_result"
    }
   ],
   "source": [
    "# 제대로 변환되었는지 테스트하는 더미 데이터\n",
    "le.transform(['M', 'B'])"
   ]
  },
  {
   "cell_type": "code",
   "execution_count": 8,
   "metadata": {},
   "outputs": [],
   "source": [
    "# 훈련 데이터셋과 테스트 데이터셋을 80:20 비율로 변환\n",
    "X_train, X_test, y_train, y_test = train_test_split(X, y, test_size=0.20,\n",
    "                                                    stratify=y, random_state=1)"
   ]
  },
  {
   "cell_type": "markdown",
   "metadata": {},
   "source": [
    "## 6.2 파이프라인으로 변환기와 추정기 연결\n",
    "많은 머신러닝 알고리즘은 최적의 성능을 위해 입력 특성이 같은 스케일을 가져야 한다고 누누이 강조해왔습니다. 위스콘신 유방암 데이터셋은 다양한 스케일로 측정되었기 때문에 로지스틱 회귀 같은 분류기에 입력하기 전에 특성을 표준화할 필요가 있습니다. 여기서는 5단원에서 소개한 주성분 분석(PCA)을 통해 초기 30차원에서 좀 더 낮은 2차원 부분공간으로 데이터를 압축한다고 가정하겠습니다. ~~그 편이 시각화하기도 편하고~~  \n",
    "훈련 데이터셋과 테스트 데이터셋을 각각 학습하고 변환하는 단계를 구성하는 대신 `StandardScaler`, `PCA`, `LogisticRegression` 세 객체를 하나의 파이프라인으로 연결할 수 있습니다."
   ]
  },
  {
   "cell_type": "code",
   "execution_count": 9,
   "metadata": {},
   "outputs": [],
   "source": [
    "from sklearn.preprocessing import StandardScaler\n",
    "from sklearn.decomposition import PCA\n",
    "from sklearn.linear_model import LogisticRegression\n",
    "from sklearn.pipeline import make_pipeline"
   ]
  },
  {
   "cell_type": "code",
   "execution_count": 10,
   "metadata": {},
   "outputs": [],
   "source": [
    "# 여러 개의 변환기와 추정기를 연결하는 make_pipeline 함수\n",
    "# 입력받은 객체들을 사용해 사이킷런의 Pipeline 객체를 생성해 반환\n",
    "pipe_lr = make_pipeline(StandardScaler(),\n",
    "                        PCA(n_components=2),\n",
    "                        LogisticRegression(random_state=1))"
   ]
  },
  {
   "cell_type": "code",
   "execution_count": 12,
   "metadata": {},
   "outputs": [
    {
     "data": {
      "text/plain": [
       "Pipeline(steps=[('standardscaler', StandardScaler()),\n",
       "                ('pca', PCA(n_components=2)),\n",
       "                ('logisticregression', LogisticRegression(random_state=1))])"
      ]
     },
     "execution_count": 12,
     "metadata": {},
     "output_type": "execute_result"
    }
   ],
   "source": [
    "pipe_lr.fit(X_train, y_train)"
   ]
  },
  {
   "cell_type": "code",
   "execution_count": 13,
   "metadata": {},
   "outputs": [],
   "source": [
    "y_pred = pipe_lr.predict(X_test)"
   ]
  },
  {
   "cell_type": "code",
   "execution_count": 14,
   "metadata": {},
   "outputs": [
    {
     "name": "stdout",
     "output_type": "stream",
     "text": [
      "테스트 정확도: 0.956\n"
     ]
    }
   ],
   "source": [
    "print(f\"테스트 정확도: {pipe_lr.score(X_test, y_test):.3f}\")"
   ]
  },
  {
   "cell_type": "markdown",
   "metadata": {},
   "source": [
    "사이킷런의 파이프라인은 매우 유용한 래퍼(wrapper) 도구입니다. 각종 추정기나 개별 변환기를 감싼 객체라는 뜻이죠. 앞으로 나머지 과정에서 자주 사용하게 될 것입니다. `Pipeline` 객체가 동작하는 방식을 확실하게 이해하기 위해 다음 그림을 자세히 살펴보세요. 이 문단의 코드를 도식화한 것입니다.  \n",
    "![그림 6-1](images/Fig6_1.png)  "
   ]
  },
  {
   "cell_type": "markdown",
   "metadata": {},
   "source": [
    "> <span style='background-color:green'>Tips and Tricks</span> 파이프라인 꿀팁 & 구조 시각화<br/>\n",
    "> 훈련 데이터셋을 전처리할 때 사용한 파라미터로 테스트 데이터셋을 변환해야 합니다. 비슷하게 다음 단원에서 소개할 교차 검증도 훈련 폴드에서 학습한 파라미터를 사용하여 테스트 폴드를 전처리해야 합니다. 이렇게 하려면 전처리 과정이 교차검증 반복 안으로 들어가야 합니다. 전처리 과정을 `Pipeline`으로 감싸서 교차검증 함수로 전달하면 손쉽게 구현할 수 있습니다. 자세한 내용은 7단원에서 볼 수 있습니다.  \n",
    "> 한편, 사이킷런 0.23 버전부터는 추정기 객체를 주피터 노트북에서 시각화해 주는 기능이 추가되었습니다. 특히 파이프라인 구조를 시각적으로 잘 요약해주며 다음과 같이 사용할 수 있습니다."
   ]
  },
  {
   "cell_type": "code",
   "execution_count": 16,
   "metadata": {},
   "outputs": [],
   "source": [
    "from sklearn import set_config"
   ]
  },
  {
   "cell_type": "code",
   "execution_count": 17,
   "metadata": {},
   "outputs": [],
   "source": [
    "set_config(display='diagram')"
   ]
  },
  {
   "cell_type": "code",
   "execution_count": 18,
   "metadata": {},
   "outputs": [
    {
     "data": {
      "text/html": [
       "<style>#sk-7477530c-1334-43fb-b18f-a668abb783a7 {color: black;background-color: white;}#sk-7477530c-1334-43fb-b18f-a668abb783a7 pre{padding: 0;}#sk-7477530c-1334-43fb-b18f-a668abb783a7 div.sk-toggleable {background-color: white;}#sk-7477530c-1334-43fb-b18f-a668abb783a7 label.sk-toggleable__label {cursor: pointer;display: block;width: 100%;margin-bottom: 0;padding: 0.3em;box-sizing: border-box;text-align: center;}#sk-7477530c-1334-43fb-b18f-a668abb783a7 label.sk-toggleable__label-arrow:before {content: \"▸\";float: left;margin-right: 0.25em;color: #696969;}#sk-7477530c-1334-43fb-b18f-a668abb783a7 label.sk-toggleable__label-arrow:hover:before {color: black;}#sk-7477530c-1334-43fb-b18f-a668abb783a7 div.sk-estimator:hover label.sk-toggleable__label-arrow:before {color: black;}#sk-7477530c-1334-43fb-b18f-a668abb783a7 div.sk-toggleable__content {max-height: 0;max-width: 0;overflow: hidden;text-align: left;background-color: #f0f8ff;}#sk-7477530c-1334-43fb-b18f-a668abb783a7 div.sk-toggleable__content pre {margin: 0.2em;color: black;border-radius: 0.25em;background-color: #f0f8ff;}#sk-7477530c-1334-43fb-b18f-a668abb783a7 input.sk-toggleable__control:checked~div.sk-toggleable__content {max-height: 200px;max-width: 100%;overflow: auto;}#sk-7477530c-1334-43fb-b18f-a668abb783a7 input.sk-toggleable__control:checked~label.sk-toggleable__label-arrow:before {content: \"▾\";}#sk-7477530c-1334-43fb-b18f-a668abb783a7 div.sk-estimator input.sk-toggleable__control:checked~label.sk-toggleable__label {background-color: #d4ebff;}#sk-7477530c-1334-43fb-b18f-a668abb783a7 div.sk-label input.sk-toggleable__control:checked~label.sk-toggleable__label {background-color: #d4ebff;}#sk-7477530c-1334-43fb-b18f-a668abb783a7 input.sk-hidden--visually {border: 0;clip: rect(1px 1px 1px 1px);clip: rect(1px, 1px, 1px, 1px);height: 1px;margin: -1px;overflow: hidden;padding: 0;position: absolute;width: 1px;}#sk-7477530c-1334-43fb-b18f-a668abb783a7 div.sk-estimator {font-family: monospace;background-color: #f0f8ff;border: 1px dotted black;border-radius: 0.25em;box-sizing: border-box;margin-bottom: 0.5em;}#sk-7477530c-1334-43fb-b18f-a668abb783a7 div.sk-estimator:hover {background-color: #d4ebff;}#sk-7477530c-1334-43fb-b18f-a668abb783a7 div.sk-parallel-item::after {content: \"\";width: 100%;border-bottom: 1px solid gray;flex-grow: 1;}#sk-7477530c-1334-43fb-b18f-a668abb783a7 div.sk-label:hover label.sk-toggleable__label {background-color: #d4ebff;}#sk-7477530c-1334-43fb-b18f-a668abb783a7 div.sk-serial::before {content: \"\";position: absolute;border-left: 1px solid gray;box-sizing: border-box;top: 2em;bottom: 0;left: 50%;}#sk-7477530c-1334-43fb-b18f-a668abb783a7 div.sk-serial {display: flex;flex-direction: column;align-items: center;background-color: white;padding-right: 0.2em;padding-left: 0.2em;}#sk-7477530c-1334-43fb-b18f-a668abb783a7 div.sk-item {z-index: 1;}#sk-7477530c-1334-43fb-b18f-a668abb783a7 div.sk-parallel {display: flex;align-items: stretch;justify-content: center;background-color: white;}#sk-7477530c-1334-43fb-b18f-a668abb783a7 div.sk-parallel::before {content: \"\";position: absolute;border-left: 1px solid gray;box-sizing: border-box;top: 2em;bottom: 0;left: 50%;}#sk-7477530c-1334-43fb-b18f-a668abb783a7 div.sk-parallel-item {display: flex;flex-direction: column;position: relative;background-color: white;}#sk-7477530c-1334-43fb-b18f-a668abb783a7 div.sk-parallel-item:first-child::after {align-self: flex-end;width: 50%;}#sk-7477530c-1334-43fb-b18f-a668abb783a7 div.sk-parallel-item:last-child::after {align-self: flex-start;width: 50%;}#sk-7477530c-1334-43fb-b18f-a668abb783a7 div.sk-parallel-item:only-child::after {width: 0;}#sk-7477530c-1334-43fb-b18f-a668abb783a7 div.sk-dashed-wrapped {border: 1px dashed gray;margin: 0 0.4em 0.5em 0.4em;box-sizing: border-box;padding-bottom: 0.4em;background-color: white;position: relative;}#sk-7477530c-1334-43fb-b18f-a668abb783a7 div.sk-label label {font-family: monospace;font-weight: bold;background-color: white;display: inline-block;line-height: 1.2em;}#sk-7477530c-1334-43fb-b18f-a668abb783a7 div.sk-label-container {position: relative;z-index: 2;text-align: center;}#sk-7477530c-1334-43fb-b18f-a668abb783a7 div.sk-container {/* jupyter's `normalize.less` sets `[hidden] { display: none; }` but bootstrap.min.css set `[hidden] { display: none !important; }` so we also need the `!important` here to be able to override the default hidden behavior on the sphinx rendered scikit-learn.org. See: https://github.com/scikit-learn/scikit-learn/issues/21755 */display: inline-block !important;position: relative;}#sk-7477530c-1334-43fb-b18f-a668abb783a7 div.sk-text-repr-fallback {display: none;}</style><div id=\"sk-7477530c-1334-43fb-b18f-a668abb783a7\" class=\"sk-top-container\"><div class=\"sk-text-repr-fallback\"><pre>Pipeline(steps=[(&#x27;standardscaler&#x27;, StandardScaler()),\n",
       "                (&#x27;pca&#x27;, PCA(n_components=2)),\n",
       "                (&#x27;logisticregression&#x27;, LogisticRegression(random_state=1))])</pre><b>Please rerun this cell to show the HTML repr or trust the notebook.</b></div><div class=\"sk-container\" hidden><div class=\"sk-item sk-dashed-wrapped\"><div class=\"sk-label-container\"><div class=\"sk-label sk-toggleable\"><input class=\"sk-toggleable__control sk-hidden--visually\" id=\"1025f4fb-3291-4a20-a451-7c317842470c\" type=\"checkbox\" ><label for=\"1025f4fb-3291-4a20-a451-7c317842470c\" class=\"sk-toggleable__label sk-toggleable__label-arrow\">Pipeline</label><div class=\"sk-toggleable__content\"><pre>Pipeline(steps=[(&#x27;standardscaler&#x27;, StandardScaler()),\n",
       "                (&#x27;pca&#x27;, PCA(n_components=2)),\n",
       "                (&#x27;logisticregression&#x27;, LogisticRegression(random_state=1))])</pre></div></div></div><div class=\"sk-serial\"><div class=\"sk-item\"><div class=\"sk-estimator sk-toggleable\"><input class=\"sk-toggleable__control sk-hidden--visually\" id=\"7088e55f-3110-4127-9b31-659b55c3a221\" type=\"checkbox\" ><label for=\"7088e55f-3110-4127-9b31-659b55c3a221\" class=\"sk-toggleable__label sk-toggleable__label-arrow\">StandardScaler</label><div class=\"sk-toggleable__content\"><pre>StandardScaler()</pre></div></div></div><div class=\"sk-item\"><div class=\"sk-estimator sk-toggleable\"><input class=\"sk-toggleable__control sk-hidden--visually\" id=\"a7bd61f6-ac9a-48e7-a420-01735f94d6a7\" type=\"checkbox\" ><label for=\"a7bd61f6-ac9a-48e7-a420-01735f94d6a7\" class=\"sk-toggleable__label sk-toggleable__label-arrow\">PCA</label><div class=\"sk-toggleable__content\"><pre>PCA(n_components=2)</pre></div></div></div><div class=\"sk-item\"><div class=\"sk-estimator sk-toggleable\"><input class=\"sk-toggleable__control sk-hidden--visually\" id=\"c6ca912d-b306-42e4-92da-81361bd5e5e9\" type=\"checkbox\" ><label for=\"c6ca912d-b306-42e4-92da-81361bd5e5e9\" class=\"sk-toggleable__label sk-toggleable__label-arrow\">LogisticRegression</label><div class=\"sk-toggleable__content\"><pre>LogisticRegression(random_state=1)</pre></div></div></div></div></div></div></div>"
      ],
      "text/plain": [
       "Pipeline(steps=[('standardscaler', StandardScaler()),\n",
       "                ('pca', PCA(n_components=2)),\n",
       "                ('logisticregression', LogisticRegression(random_state=1))])"
      ]
     },
     "execution_count": 18,
     "metadata": {},
     "output_type": "execute_result"
    }
   ],
   "source": [
    "pipe_lr"
   ]
  },
  {
   "cell_type": "code",
   "execution_count": null,
   "metadata": {},
   "outputs": [],
   "source": []
  }
 ],
 "metadata": {
  "kernelspec": {
   "display_name": "base",
   "language": "python",
   "name": "python3"
  },
  "language_info": {
   "codemirror_mode": {
    "name": "ipython",
    "version": 3
   },
   "file_extension": ".py",
   "mimetype": "text/x-python",
   "name": "python",
   "nbconvert_exporter": "python",
   "pygments_lexer": "ipython3",
   "version": "3.9.13"
  }
 },
 "nbformat": 4,
 "nbformat_minor": 2
}
