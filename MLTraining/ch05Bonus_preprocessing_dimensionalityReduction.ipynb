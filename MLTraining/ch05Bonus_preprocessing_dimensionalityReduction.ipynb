{
 "cells": [
  {
   "cell_type": "markdown",
   "metadata": {},
   "source": [
    "### 특강: L2, L1 규제의 기하학적 해석\n",
    "#### 들어가기 전에: 희소성(sparsity)이란?\n",
    "수학에서, 특히 선형대수학에서 희소행렬(sparse matrix) 또는 성긴 행렬이란 행렬의 대부분의 원소의 값이 0인 행렬을 뜻합니다. 이와 반대되는 행렬을 밀집행렬(dense matrix) 또는 밀집행렬이라고 합니다. 아래와 같은 행렬을 희소행렬이라고 부를 수 있을 겁니다.  \n",
    "$$\\begin{bmatrix}0 & 0 & 0 & 0 & 0 & 0 & 0 & 0 & 0 & 0 & 0 & 0 \\\\\n",
    "0 & 0 & 1 & 0 & 0 & 0 & 0 & 0 & 0 & 0 & 0 & 7 \\\\\n",
    "0 & 0 & 0 & 0 & 0 & 0 & 2 & 0 & 0 & 0 & 0 & 0 \\\\\n",
    "0 & 0 & 0 & 0 & 0 & 0 & 0 & 0 & 0 & 0 & 0 & 0 \\\\\n",
    "0 & 0 & 0 & 0 & 1 & 0 & 0 & 0 & 0 & 0 & 0 & 0 \\\\\n",
    "0 & 0 & 0 & 0 & 0 & 0 & 0 & 0 & 0 & 0 & 0 & 0\n",
    "\\end{bmatrix}$$  \n",
    "앞으로 우리는 이와 같이 어떤 벡터나 행렬에서 대부분의 원소가 0일 경우 **희소성(sparsity)을 가진다**라고 표현하겠습니다. 참고로 컴퓨터과학에서 이와 같은 희소성은 하나의 메모리 단위 안에 정보가 밀도 있게 들어있지 못하다는 뜻이므로 메모리 낭비 또는 누수가 심하다는 뜻으로도 볼 수 있습니다.\n",
    "#### L2 규제\n",
    "L2 규제는 비용 함수에 페널티 항(penalty term)을 추가합니다. 규제가 없는 비용 함수로 훈련한 모델에 비해 가중치 값을 아주 작게 만드는 효과를 냅니다.  \n",
    "두 개의 가중치 값 $w_1$과 $w_2$에 대한 볼록한 비용 함수의 등고선을 그려 보죠. 아래 그림과 같이 우리의 목표는 훈련 데이터에서 비용 함수를 최소화하는 가중치 값의 조합을 찾는 것입니다(타원의 중심).  \n",
    "![그림 5-3](images/Fig5_3.png)  \n",
    "규제를 다르게 해석해보면, 더 작은 가중치를 얻기 위해 비용 함수에 추가하는 페널티 항으로 볼 수 있습니다. 즉, 큰 가중치를 제한하는 것이죠. 규제 파라미터 $\\lambda$로 규제의 강도를 크게 하면 가중치가 0에 가까워지고, 훈련 데이터에 대한 모델 의존성은 줄어듭니다. L2 페널티 항에 대한 이 개념을 아래 그림에 나타내었습니다.  \n",
    "![그림 5-4](images/Fig5_4.png)  \n",
    "L2 규제항은 2차식이기 때문에 회색 원으로 표현되어 있습니다. 가중치 값은 규제 예산을 초과할 수 없습니다. **즉, 가중치 값의 조합은 회색 공 바깥에 놓일 수 없습니다.** 반면 우리는 여전히 비용 함수를 최소화해야 합니다. 이런 상황에서 최선은 L2 회색 공과 규제가 없는 비용 함수의 등고선이 만나는 지점입니다. 규제 파라미터 $\\lambda$가 커질수록 페널티 비용이 빠르게 증가하여 L2 원을 작게 만들 것입니다. 예를 들어 규제 파라미터를 무한대로 증가하면 가중치의 값이 L2 원의 중심인 0이 될 것입니다. 이 예시에서 중요한 핵심을 정리하면 우리의 목표는 규제가 없는 비용과 페널티 항의 합을 최소화하는 것입니다. 이는 모델을 학습할 만한 충분한 훈련 데이터가 없을 때 편향을 추가하여 모델을 간단하게 만듦으로써 분산을 줄이는 것으로 해석할 수 있습니다.\n",
    "#### L1 규제\n",
    "L1 규제와 희소성을 이야기해보죠. L1 규제의 이면에 있는 주요 개념은 L2 규제에 대해 논의한 것과 유사한 부분이 많습니다. L1 페널티는 가중치 절대값의 합이기 때문에 아래 그림과 같이 다이아몬드 모양의 제한 범위를 그릴 수 있습니다(L2 항은 이차식으로 표현되었던 것 기억하시죠?).  \n",
    "![그림 5-5](images/Fig5_5.png)  \n",
    "위 그림에서 $w_1=0$일 때 비용 함수의 등고선이 L1 다이아몬드와 만나는 것을 볼 수 있습니다. L1 규제의 등고선은 날카롭기 때문에 비용 함수의 포물선과 L1 다이아몬드의 경계가 만나는 최적점은 축에 가깝게 위치할 가능성이 높습니다. 이것이 희소성이 나타나는 이유입니다.  \n",
    "> <span style='background-color:blue'>여담</span> L1 규제와 희소성<br/>\n",
    "L1 규제가 희소한 모델을 만드는 이유에 대한 수학적인 상세한 설명은 이 강의의 범위를 넘어섭니다. 관심이 있다면 [통계학으로 배우는 머신러닝(트레버 헤이스티 , 로버트 팁시라니 , 제롬 프리드먼 저자(글) · 이판호 번역 · 에이콘출판 · 2021)](https://product.kyobobook.co.kr/detail/S000001804976)([원서: The Elements of Statistical Learning(Trevor Hastie, Robert Tibshirani, Jerome Freidman · Springer Science+Business Media · 2009)](https://hastie.su.domains/Papers/ESLII.pdf)) 3.4절에서 L2와 L1 규제에 대한 자세한 설명을 참고하세요.  "
   ]
  },
  {
   "cell_type": "markdown",
   "metadata": {},
   "source": [
    "### 특강: 주성분 분석(PCA) 심화과정\n",
    "PCA 이면에 있는 큰 틀에서의 절차와 이론적 계산 과정을 다루도록 하겠습니다. 수업 자료에도 나와있다시피 PCA는 특성 사이의 상관관계를 기반으로 데이터의 특성을 포착하는 비지도 변환 기법입니다. PCA는 고차원 데이터에서 분산이 가장 큰 방향을 찾고 좀 더 작거나 같은 수의 차원을 갖는 새로운 부분 공간으로 이를 투영합니다. 새로운 부분 공간의 직교 좌표(주성분)는 주어진 조건하에서 분산이 최대인 방향으로 해석할 수 있습니다.  \n",
    "PCA를 사용하여 차원을 축소하기 위해 $d\\times k$ 차원의 변환 행렬 $\\boldsymbol{W}$를 만듭니다. 이 행렬로 훈련 샘플의 특성 벡터 $\\boldsymbol{x}$를 새로운 $k$ 차원의 특성 부분공간으로 매핑합니다. 이 부분 공간은 원본 $d$차원의 특성 공간보다 작은 차원을 가집니다. 예를 들어 다음과 같은 과정을 거칩니다. 다음과 같은 특성 벡터 $\\boldsymbol{x}$가 있다고 가정해 보죠.  \n",
    "$$\\boldsymbol{x}=\\left[x_1,x_2,\\cdots,x_d\\right],\\ \\boldsymbol{x}\\in\\mathbb{R}^d$$  \n",
    "이 벡터는 변환 행렬 $\\boldsymbol{W}\\in\\mathbb{R}^{d\\times k}$에 의해 변환됩니다.  \n",
    "$$\\boldsymbol{xW}=\\boldsymbol{z}$$  \n",
    "출력된 결과 벡터는 다음과 같습니다.  \n",
    "$$\\boldsymbol{z}=\\left[z_1, z_2, \\cdots, \\_k\\right],\\ \\boldsymbol{z}\\in\\mathbb{R}^k$$  \n",
    "원본 $d$차원 데이터를 새로운 $k$차원의 부분공간(일반적으로 $k\\ll d$)으로 변환하여 만들어진 첫 번째 주성분이 가장 큰 분산을 가질 것입니다. 모든 주성분은 다른 주성분들과 상관관계가 없다는(즉, 직교한다는) 가정 하에 가장 큰 분산을 가집니다. 입력 특성에 상관관계가 있더라도 만들어진 주성분은 서로 직각을 이룰(상관관계가 없을) 것입니다. PCA 방향은 데이터 스케일에 매우 민감합니다. 특성의 스케일이 다르고 모든 특성의 중요도를 동일하게 취급하려면 PCA를 적용하기 전에 특성을 표준화 전처리해야 합니다.  \n",
    "차원 축소를 위한 PCA 알고리즘을 자세히 알아보기 전에 사용 방법을 몇 단계로 나누어 정리해보겠습니다.  \n",
    "1. $d$차원 데이터셋을 표준화 전처리합니다.\n",
    "2. 공분산 행렬(covariance matrix)을 만듭니다.\n",
    "3. 공분산 행렬을 고유벡터(eigenvector)와 고유값(eigenvalue)으로 분해합니다.\n",
    "4. 고유값을 내림차순으로 정렬하고, 정렬된 고유값 각각에 해당하는 고유벡터의 순위를 매깁니다.\n",
    "5. 고유값이 가장 큰 $k$개의 고유벡터를 선택합니다. 여기서 $k$는 새로운 특성 부분공간의 차원입니다($k\\le d$).\n",
    "6. 최상위 $k$개의 고유벡터로 투영 행렬(projection matrix) $\\boldsymbol{W}$를 만듭니다.\n",
    "7. 투영 행렬 $\\boldsymbol{W}$를 사용해서 $d$차원 입력 데이터셋 $\\boldsymbol{X}$를 새로운 $k$차원 의 특성 부분공간으로 변환합니다.  \n",
    "\n",
    "연습을 위해 파이썬으로 PCA를 하나씩 구현해보겠습니다. 이 과정은 사이킷런 PCA API의 내부에서 일어나는 과정을 실습하는 것입니다."
   ]
  },
  {
   "cell_type": "markdown",
   "metadata": {},
   "source": [
    "#### 주성분 추출 단계\n",
    "이 절에서 PCA 1~4단계를 처리합니다. 먼저 4장에서 사용했던 와인 데이터셋을 로드하겠습니다."
   ]
  },
  {
   "cell_type": "code",
   "execution_count": 1,
   "metadata": {},
   "outputs": [],
   "source": [
    "import pandas as pd\n",
    "df_wine = pd.read_csv(\"https://archive.ics.uci.edu/ml/machine-learning-databases/wine/wine.data\", header=None)"
   ]
  },
  {
   "cell_type": "markdown",
   "metadata": {},
   "source": [
    "그다음 와인 데이터셋을 70:30 비율로 훈련 데이터셋과 테스트 데이터셋으로 나누고 표준화를 적용하여 단위 분산을 갖도록 합니다."
   ]
  },
  {
   "cell_type": "code",
   "execution_count": 2,
   "metadata": {},
   "outputs": [],
   "source": [
    "from sklearn.model_selection import train_test_split"
   ]
  },
  {
   "cell_type": "code",
   "execution_count": 3,
   "metadata": {},
   "outputs": [],
   "source": [
    "X, y = df_wine.iloc[:, 1:].values, df_wine.iloc[:, 0].values"
   ]
  },
  {
   "cell_type": "code",
   "execution_count": 4,
   "metadata": {},
   "outputs": [],
   "source": [
    "X_train, X_test, y_train, y_test = train_test_split(X, y, test_size=0.3,\n",
    "                                                    stratify=y, random_state=0)"
   ]
  },
  {
   "cell_type": "code",
   "execution_count": 5,
   "metadata": {},
   "outputs": [],
   "source": [
    "from sklearn.preprocessing import StandardScaler"
   ]
  },
  {
   "cell_type": "code",
   "execution_count": 6,
   "metadata": {},
   "outputs": [],
   "source": [
    "sc = StandardScaler()"
   ]
  },
  {
   "cell_type": "code",
   "execution_count": 7,
   "metadata": {},
   "outputs": [],
   "source": [
    "X_train_std = sc.fit_transform(X_train)\n",
    "X_test_std = sc.transform(X_test)"
   ]
  },
  {
   "cell_type": "markdown",
   "metadata": {},
   "source": [
    "두 번째 단계로 공분산 행렬을 만듭니다. 공분산 행렬은 $d\\times d$ 차원의 대칭 행렬로 특성 상호 간의 공분산을 저장합니다. $d$는 데이터셋에 있는 차원의 개수입니다. 예를 들어 전체 샘플에 대한 두 특성 $x_j$와 $x_k$ 사이의 공분산은 다음과 같이 계산할 수 있습니다.  \n",
    "$$\\sigma_{jk}=\\frac{1}{n-1}\\sum_{i=1}^n \\left(x_j^{\\left(i\\right)}-\\mu_j\\right)\\left(x_k^{\\left(i\\right)}-\\mu_k\\right)$$  \n",
    "여기서 $\\mu_j$와 $\\mu_k$는 특성 $j$와 $k$의 샘플 평균입니다. 데이터셋을 표준화 전처리했기 때문에 샘플 평균은 0입니다. 두 특성 간의 공분산이 0보다 크다면, 즉 양의 공분산이라면 특성이 함께 증가하거나 감소하는 것을 나타냅니다. 반대로 0보다 작은 음의 공분산은 특성이 반대 방향으로 달라짐을 의미합니다. 예를 들어 세 개의 특성으로 이루어진 공분산 행렬은 다음과 같이 쓸 수 있습니다. ($\\Sigma$는 그리스 문자 시그마의 대문자입니다. 합 기호와 혼동하지 마세요.)  \n",
    "$$\\Sigma=\\begin{bmatrix}\\sigma_1^2 & \\sigma_{12} & \\sigma_{13} \\\\\n",
    "\\sigma_{22} & \\sigma_2^2 & \\sigma_{23} \\\\\n",
    "\\sigma_{31} & \\sigma_{32} & \\sigma_3^2 \\\\\n",
    "\\end{bmatrix}$$  \n",
    "공분산 행렬의 고유벡터가 주성분(최대 분산의 방향)을 나타냅니다. 이에 대응되는 고유값은 주성분의 크기입니다. 와인 데이터셋의 경우 $13\\times 13$ 차원의 공분산 행렬로부터 13개의 고유벡터와 고유값을 얻을 수 있습니다.  \n",
    "> 원점에 중앙이 맞추어진 행렬 $\\boldsymbol{X}$가 있고 이 행렬의 주성분 벡터 $\\boldsymbol{w}$라고 가정합니다. $\\boldsymbol{X}$를 $\\boldsymbol{w}$에 투영한 $\\boldsymbol{Xw}$의 분산이 최대가 되는 $\\boldsymbol{w}$를 찾으려 합니다. 여기서 $\\boldsymbol{Xw}$의 분산은  \n",
    "> $$Var\\left(\\boldsymbol{Xw}\\right)=\\frac{1}{n-1}\\left(\\boldsymbol{Xw}\\right)^T\\boldsymbol{Xw}=\\boldsymbol{w}^T\\frac{1}{n-1}\\boldsymbol{X}^T\\boldsymbol{Xw}=\\boldsymbol{w}^T\\boldsymbol{Cw}$$  \n",
    "> 와 같이 공분산 행렬 $\\boldsymbol{C}$로 표현됩니다. 분산 $Var\\left(\\boldsymbol{Xw}\\right)$을 $\\lambda$로 놓으면 $\\boldsymbol{Cw}=\\lambda\\boldsymbol{w}$처럼 쓸 수 있습니다. 즉, 공분산 행렬의 가장 큰 고유값($\\lambda$)에 해당하는 벡터 $\\boldsymbol{w}$를 찾는 문제가 됩니다.  \n",
    "\n",
    "이제 세 번쨰 단계를 위해 공분산 행렬의 고유벡터와 고유값의 쌍을 구해보죠. 선형대수학 수업을 들어보신~~정확히는 기억하고 있는~~ 분들은 고유벡터 $\\boldsymbol{v}$가 아래 식을 만족하는 것을 기억하실 겁니다.  \n",
    "$$\\Sigma\\boldsymbol{v}=\\lambda\\boldsymbol{v}$$  \n",
    "여기서 $\\lambda$가 스케일을 담당하는 고유값입니다. 고유벡터와 고유값을 직접 계산하는 것은 재미없고 복잡한 작업이기 때문에 넘파이의 힘을 빌리겠습니다. ~~그런 건 학부 때 한 학기만 하면 충분해~~ `linalg.eig` 함수를 사용해 계산합니다."
   ]
  },
  {
   "cell_type": "code",
   "execution_count": 8,
   "metadata": {},
   "outputs": [],
   "source": [
    "import numpy as np"
   ]
  },
  {
   "cell_type": "code",
   "execution_count": 9,
   "metadata": {},
   "outputs": [],
   "source": [
    "cov_mat = np.cov(X_train_std.T) # 공분산 행렬 계산"
   ]
  },
  {
   "cell_type": "code",
   "execution_count": 10,
   "metadata": {},
   "outputs": [],
   "source": [
    "eigen_vals, eigen_vecs = np.linalg.eig(cov_mat) # 고유값 분해"
   ]
  },
  {
   "cell_type": "code",
   "execution_count": 11,
   "metadata": {},
   "outputs": [
    {
     "name": "stdout",
     "output_type": "stream",
     "text": [
      "\n",
      "고유값\n",
      "[4.84274532 2.41602459 1.54845825 0.96120438 0.84166161 0.6620634\n",
      " 0.51828472 0.34650377 0.3131368  0.10754642 0.21357215 0.15362835\n",
      " 0.1808613 ]\n"
     ]
    }
   ],
   "source": [
    "print(\"\\n고유값\\n%s\" % eigen_vals)"
   ]
  },
  {
   "cell_type": "markdown",
   "metadata": {},
   "source": [
    "#### 총 분산과 설명된 분산\n",
    "데이터셋 차원을 새로운 특성 부분공간으로 압축하여 줄여야 하기에 가장 많은 정보(분산)를 가진 고유벡터(주성분) 일부만 선택합니다. 고유값은 고유벡터의 크기를 결정하므로 고유값을 내림차순으로 정렬합니다. 고유값 순서에 따라 최상위 $k$개의 고유벡터를 선택합니다. 가장 정보가 많은 $k$개의 고유벡터를 선택하기 전에 **설명된 분산 비율**(explained variance ratio)을 그래프로 그려보죠. 고유값 $\\lambda_j$의 설명된 분산 비율은 전체 고유값의 합에 대한 고유값 $\\lambda_j$\\의 비율입니다.  \n",
    "$$\\mathsf{설명된\\ 분산\\ 비율}=\\frac{\\lambda_j}{\\sum_{j=1}^d \\lambda_j}$$  \n",
    "넘파이 `cumsum` 함수로 설명된 분산의 누적합을 계산하고 맷플롯립의 `step` 함수로 그래프를 그려보겠습니다."
   ]
  },
  {
   "cell_type": "code",
   "execution_count": 12,
   "metadata": {},
   "outputs": [],
   "source": [
    "tot = sum(eigen_vals)"
   ]
  },
  {
   "cell_type": "code",
   "execution_count": 13,
   "metadata": {},
   "outputs": [],
   "source": [
    "var_exp = [(i / tot) for i in sorted(eigen_vals, reverse=True)]"
   ]
  },
  {
   "cell_type": "code",
   "execution_count": 14,
   "metadata": {},
   "outputs": [],
   "source": [
    "cum_var_exp = np.cumsum(var_exp)"
   ]
  },
  {
   "cell_type": "code",
   "execution_count": 15,
   "metadata": {},
   "outputs": [],
   "source": [
    "import matplotlib.pyplot as plt"
   ]
  },
  {
   "cell_type": "code",
   "execution_count": 16,
   "metadata": {},
   "outputs": [
    {
     "data": {
      "image/png": "[encoded data removed]",
      "text/plain": [
       "<Figure size 640x480 with 1 Axes>"
      ]
     },
     "metadata": {},
     "output_type": "display_data"
    }
   ],
   "source": [
    "plt.bar(range(1, 14), var_exp, alpha=0.5, align='center',\n",
    "        label='Individual explained variance')\n",
    "plt.step(range(1, 14), cum_var_exp, where='mid',\n",
    "         label='Cumulative explained variance')\n",
    "plt.ylabel(\"Explained variance ratio\")\n",
    "plt.xlabel(\"Principal component index\")\n",
    "plt.legend(loc=0)\n",
    "plt.tight_layout()\n",
    "plt.show()"
   ]
  },
  {
   "cell_type": "markdown",
   "metadata": {},
   "source": [
    "결과 그래프는 첫 번째 주성분이 분산의 약 40%를 커버하고 있음을 보여주고 있습니다. 또한 처음 두 개의 주성분이 데이터셋 전체의 분산의 약 60%를 설명합니다.  \n",
    "설명된 분산 그래프는 랜덤 포레스트로 계산한 특성 중요도를 떠올리게 하지만, PCA는 비지도학습이라는 점을 기억하세요. 클래스 레이블에 대한 정보를 사용하지 않았습니다. 랜덤 포레스트는 클래스 소속 정보를 사용하여 노드의 불순도를 계산하는 반면, 분산은 특성 축을 따라 값들이 퍼진 정도를 측정합니다."
   ]
  },
  {
   "cell_type": "markdown",
   "metadata": {},
   "source": [
    "#### 특성 변환\n",
    "공분산 행렬을 고유벡터와 고유값 쌍으로 분해했습니다. 이제 남은 세 단계인 5~7단계를 진행하겠습니다.  \n",
    "고유값의 내림차순으로 고유벡터를 정렬하고 선택된 고유벡터로 투영 행렬을 구성합니다. 이 투영 행렬을 사용하여 데이터를 저차원 부분공간으로 변환합니다."
   ]
  },
  {
   "cell_type": "code",
   "execution_count": 17,
   "metadata": {},
   "outputs": [],
   "source": [
    "eigen_pairs = [(np.abs(eigen_vals[i]), eigen_vecs[:, i])\n",
    "               for i in range(len(eigen_vals))]"
   ]
  },
  {
   "cell_type": "code",
   "execution_count": 18,
   "metadata": {},
   "outputs": [],
   "source": [
    "eigen_pairs.sort(key=lambda k: k[0], reverse=True)"
   ]
  },
  {
   "cell_type": "markdown",
   "metadata": {},
   "source": [
    "다음으로 가장 큰 두 개의 고유값에 해당하는 고유벡터를 선택합니다. 이 데이터셋에 있는 분산의 약 60%를 잡아낼 수 있을 것입니다. 이 예제에서는 나중에 2차원 산점도를 그리기 위해 두 개의 고유벡터만 선택했습니다. 그러나 실전에서는 계산 효율성과 모델 성능 사이의 절충점을 찾아 주성분 개수를 결정해야 합니다."
   ]
  },
  {
   "cell_type": "code",
   "execution_count": 19,
   "metadata": {},
   "outputs": [],
   "source": [
    "w = np.hstack((eigen_pairs[0][1][:, np.newaxis],\n",
    "               eigen_pairs[1][1][:, np.newaxis]))"
   ]
  },
  {
   "cell_type": "code",
   "execution_count": 20,
   "metadata": {},
   "outputs": [
    {
     "name": "stdout",
     "output_type": "stream",
     "text": [
      "투영 행렬 W:\n",
      " [[-0.13724218  0.50303478]\n",
      " [ 0.24724326  0.16487119]\n",
      " [-0.02545159  0.24456476]\n",
      " [ 0.20694508 -0.11352904]\n",
      " [-0.15436582  0.28974518]\n",
      " [-0.39376952  0.05080104]\n",
      " [-0.41735106 -0.02287338]\n",
      " [ 0.30572896  0.09048885]\n",
      " [-0.30668347  0.00835233]\n",
      " [ 0.07554066  0.54977581]\n",
      " [-0.32613263 -0.20716433]\n",
      " [-0.36861022 -0.24902536]\n",
      " [-0.29669651  0.38022942]]\n"
     ]
    }
   ],
   "source": [
    "print(\"투영 행렬 W:\\n\", w)"
   ]
  },
  {
   "cell_type": "markdown",
   "metadata": {},
   "source": [
    "이렇게 최상위 두 개의 고유벡터로부터 $13\\times 2$ 크기의 투영 행렬 $\\boldsymbol{W}$를 만들었습니다. 투영 행렬을 사용하면 샘플 $\\boldsymbol{x}$(13차원의 행 벡터)를 PCA 부분 공간(두 개의 주성분)을 투영하여 2차원 샘플 벡터$\\boldsymbol{x}^{\\prime}$를 얻을 수 있습니다.  \n",
    "$$\\boldsymbol{x}^{\\prime}=\\boldsymbol{xW}$$  "
   ]
  },
  {
   "cell_type": "code",
   "execution_count": 21,
   "metadata": {},
   "outputs": [
    {
     "data": {
      "text/plain": [
       "array([2.38299011, 0.45458499])"
      ]
     },
     "execution_count": 21,
     "metadata": {},
     "output_type": "execute_result"
    }
   ],
   "source": [
    "X_train_std[0].dot(w)"
   ]
  },
  {
   "cell_type": "markdown",
   "metadata": {},
   "source": [
    "같은 방법으로 전체 $124\\times 13$ 차원의 훈련 데이터셋을 행렬 내적으로 두 개의 주성분에 투영할 수 있습니다.  \n",
    "$$\\boldsymbol{X}^{\\prime}=\\boldsymbol{XW}$$  "
   ]
  },
  {
   "cell_type": "code",
   "execution_count": 22,
   "metadata": {},
   "outputs": [],
   "source": [
    "X_train_pca = X_train_std.dot(w)"
   ]
  },
  {
   "cell_type": "markdown",
   "metadata": {},
   "source": [
    "마지막으로 $124\\times 2$ 차원의 행렬로 변환된 와인 훈련 데이터셋을 2차원 산점도로 시각화해봅시다."
   ]
  },
  {
   "cell_type": "code",
   "execution_count": 23,
   "metadata": {},
   "outputs": [],
   "source": [
    "colors = ['r', 'b', 'g']\n",
    "markers = ['s', 'x', 'o']"
   ]
  },
  {
   "cell_type": "code",
   "execution_count": 25,
   "metadata": {},
   "outputs": [
    {
     "data": {
      "image/png": "[encoded data removed]",
      "text/plain": [
       "<Figure size 640x480 with 1 Axes>"
      ]
     },
     "metadata": {},
     "output_type": "display_data"
    }
   ],
   "source": [
    "for l, c, m in zip(np.unique(y_train), colors, markers):\n",
    "    plt.scatter(X_train_pca[y_train==l, 0],\n",
    "                X_train_pca[y_train==l, 1],\n",
    "                c=c, label=l, marker=m)\n",
    "plt.xlabel('PC 1')\n",
    "plt.ylabel('PC 2')\n",
    "plt.legend(loc='lower left')\n",
    "plt.tight_layout()\n",
    "plt.show()"
   ]
  },
  {
   "cell_type": "markdown",
   "metadata": {},
   "source": [
    "결과 그래프에서 볼 수 있듯이 데이터가 $y$축(두 번째 주성분)보다 $x$축(첫 번째 주성분)을 따라 더 넓게 퍼져 있습니다. 이전 절에서 만든 설명된 분산의 그래프와 동일한 결과입니다(주성분은 고유값의 크기로 정렬하기 때문에 첫 번째 주성분이 가장 큰 분산을 가집니다). 선형 분류기가 클래스들을 잘 분리할 수 있을 것 같다고 직관적으로 알 수 있습니다.  \n",
    "산점도를 그리기 위한 목적으로 클래스 레이블 정보를 사용했습니다. 하지만 PCA는 어떤 클래스 레이블 정보도 사용하지 않는 비지도 학습 기법이라는 것을 잊지 마세요."
   ]
  },
  {
   "cell_type": "code",
   "execution_count": null,
   "metadata": {},
   "outputs": [],
   "source": []
  }
 ],
 "metadata": {
  "kernelspec": {
   "display_name": "base",
   "language": "python",
   "name": "python3"
  },
  "language_info": {
   "codemirror_mode": {
    "name": "ipython",
    "version": 3
   },
   "file_extension": ".py",
   "mimetype": "text/x-python",
   "name": "python",
   "nbconvert_exporter": "python",
   "pygments_lexer": "ipython3",
   "version": "3.9.13"
  }
 },
 "nbformat": 4,
 "nbformat_minor": 2
}
