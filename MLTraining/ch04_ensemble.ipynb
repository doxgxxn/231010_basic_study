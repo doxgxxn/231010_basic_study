{
 "cells": [
  {
   "cell_type": "markdown",
   "metadata": {},
   "source": [
    "# Chapter 4. 앙상블 (Ensemble)\n",
    "결정 트리 모델은 퍼셉트론 이외에도 새로운 분류 모델을 만들 수 있다는 지표가 되었습니다. 그러나 튜닝을 어떻게 하느냐에 따라 심각한 오버피팅을 유발할 가능성이 있었고, 그에 따라 여러 개의 트리를 묶어서 랜덤 포레스트라는 모델을 만들어 이 문제를 어느 정도 해결하는 데 성공했습니다. 이렇듯 여러 개의 분류기를 하나의 메타 분류기로 연결하여 개별 분류기보다 더 좋은 일반화 성능을 달성할 수 있는 것이 확인되었고, 오늘날 우리는 이 기법들을 통틀어 **앙상블 학습**(ensemble learning)이라고 부릅니다. 이번 장에서는 다양한 앙상블 기법을 통해 예측을 하는 기법을 학습하겠습니다."
   ]
  },
  {
   "cell_type": "markdown",
   "metadata": {},
   "source": [
    "## 4.1 앙상블 학습\n",
    "가장 인기 있는 앙상블 방법은 과반수 투표(majority voting) 방식입니다. 이 단순한 방식은 전체 분류기들의 과반수가 예측한 클래스 레이블을 선택하는 방법입니다. 엄밀히 말하면 과반수 투표라는 용어는 이진 클래스 분류에 해당하지만 다중 클래스 문제에도 쉽게 일반화할 수 있습니다. 이를 **다수결 투표**(plurality voting)라고 합니다. 이때는 가장 많은 투표(최빈값, mode)를 받은 클래스 레이블을 선택하면 됩니다.  \n",
    "![그림 4-1](images/FIg4_1.png)  \n",
    "먼저 훈련 데이터셋을 사용해 $m$개의 다른 분류기 $C_1,\\cdots,C_m$을 훈련시킵니다. 앙상블 방법에 따라 결정 트리, 로지스틱 회귀 분류기와 같은 여러 알고리즘을 사용하여 구축할 수 있습니다. 또는 같은 분류 알고리즘을 사용하고 훈련 데이터셋의 부분집합(subset)을 달리하여 학습할 수도 있습니다. 유명한 앙상블 방법 중 하나가 3장 막바지에 봤던 랜덤 포레스트죠. 아래 그림은 과반수 투표를 사용한 일반적인 앙상블 방법입니다.  \n",
    "![그림 4-2](images/Fig4_2.png)  \n",
    "모든 가정을 만족한다면 앙상블의 오차율은 개별 분류기의 오차율보다 훨씬 낮습니다. 만약 오차율이 0.5인 분류기가 짝수 개일 때 예측이 반반으로 나뉘면 오차로 취급됩니다. "
   ]
  },
  {
   "cell_type": "markdown",
   "metadata": {},
   "source": [
    "## 4.2 다수결 투표를 사용한 분류 앙상블\n",
    "이 절에서 구현할 알고리즘은 여러 가지 분류 모델의 신뢰도에 가중치를 부여하여 연결할 수 있습니다. 여기서는 특정 데이터셋에서 개별 분류기의 약점을 보완하는 강력한 메타 분류기를 구축하는 것이 목표입니다. 넘파이의 `average`와 `argmax` 함수를 사용하여 클래스 확률 기반으로 가중치가 적용된 다수결 투표를 구현할 수 있습니다. `average` 함수는 `mean` 함수와 달리 `weights`라는 배열을 매개변수로 입력함으로써 배열의 비율을 원소에 곱해 가중 평균을 구합니다. 간단한 예시를 보이면 아래와 같습니다."
   ]
  },
  {
   "cell_type": "code",
   "execution_count": 1,
   "metadata": {},
   "outputs": [],
   "source": [
    "import numpy as np"
   ]
  },
  {
   "cell_type": "code",
   "execution_count": 2,
   "metadata": {},
   "outputs": [],
   "source": [
    "ex = np.array([[0.9, 0.1],\n",
    "               [0.8, 0.2],\n",
    "               [0.4, 0.6]])"
   ]
  },
  {
   "cell_type": "code",
   "execution_count": 3,
   "metadata": {},
   "outputs": [
    {
     "data": {
      "text/plain": [
       "array([0.58, 0.42])"
      ]
     },
     "execution_count": 3,
     "metadata": {},
     "output_type": "execute_result"
    }
   ],
   "source": [
    "p = np.average(ex, axis=0, weights=[0.2, 0.2, 0.6])\n",
    "p"
   ]
  },
  {
   "cell_type": "code",
   "execution_count": 4,
   "metadata": {},
   "outputs": [
    {
     "data": {
      "text/plain": [
       "0"
      ]
     },
     "execution_count": 4,
     "metadata": {},
     "output_type": "execute_result"
    }
   ],
   "source": [
    "np.argmax(p)"
   ]
  },
  {
   "cell_type": "markdown",
   "metadata": {},
   "source": [
    "이제 다수결 분류용 `MajorityVoteClassifier` 클래스를 구현해봅시다."
   ]
  },
  {
   "cell_type": "code",
   "execution_count": 5,
   "metadata": {},
   "outputs": [],
   "source": [
    "from sklearn.base import BaseEstimator\n",
    "from sklearn.base import ClassifierMixin\n",
    "from sklearn.preprocessing import LabelEncoder\n",
    "from sklearn.base import clone\n",
    "from sklearn.pipeline import _name_estimators # 파이프라인은 이후에 7단원에서 따로 다루겠습니다.\n",
    "import numpy as np\n",
    "import operator"
   ]
  },
  {
   "cell_type": "code",
   "execution_count": 6,
   "metadata": {},
   "outputs": [],
   "source": [
    "class MajorityVoteClassifier(BaseEstimator, \n",
    "                             ClassifierMixin):\n",
    "    \"\"\"다수결 투표 앙상블 분류기\n",
    "\n",
    "    매개변수\n",
    "    ----------\n",
    "    classifiers : 배열 타입, 크기 = [n_classifiers]\n",
    "        앙상블에 사용할 분류기\n",
    "    \n",
    "    vote : str, {'classlabel', 'probability'}\n",
    "        기본값: 'classlabel'\n",
    "        'classlabel'이면 예측은 다수인 클래스 레이블의 인덱스가 됩니다\n",
    "        'probability'면 확률 합이 가장 큰 인덱스로\n",
    "        클래스 레이블을 예측합니다(보정된 분류기에 추천합니다)\n",
    "    \n",
    "    weights : 배열 타입, 크기 = [n_classifiers]\n",
    "        선택 사항, 기본값: None\n",
    "        'int' 또는 'float' 값의 리스트가 주어지면 분류기가 이 중요도로 가중치됩니다\n",
    "        'weights=None'이면 동일하게 취급합니다\n",
    "\n",
    "    \"\"\"\n",
    "    def __init__(self, classifiers, vote='classlabel', weights=None):\n",
    "\n",
    "        self.classifiers = classifiers\n",
    "        self.named_classifiers = {key: value for key, value\n",
    "                                  in _name_estimators(classifiers)}\n",
    "        self.vote = vote\n",
    "        self.weights = weights\n",
    "\n",
    "    def fit(self, X, y):\n",
    "        \"\"\"분류기를 학습합니다\n",
    "\n",
    "        매개변수\n",
    "        ----------\n",
    "        X : {배열 타입, 희소 행렬},\n",
    "            크기 = [n_samples, n_features]\n",
    "            훈련 샘플 행렬\n",
    "        \n",
    "        y : 배열 타입, 크기 = [n_samples]\n",
    "            타깃 클래스 레이블 벡터\n",
    "            \n",
    "        반환값\n",
    "        -------\n",
    "        self : 객체\n",
    "        \n",
    "        \"\"\"\n",
    "        if self.vote not in ('probability', 'classlabel'):\n",
    "            raise ValueError(\"vote는 'probability' 또는 'classlabel'이어야 합니다\"\n",
    "                             \"; (vote=%r)이 입력되었습니다.\"\n",
    "                             % self.vote)\n",
    "\n",
    "        if self.weights and len(self.weights) != len(self.classifiers):\n",
    "            raise ValueError('분류기와 가중치 개수는 같아야 합니다'\n",
    "                             '; 가중치 %d 개, 분류기 %d 개'\n",
    "                             % (len(self.weights), len(self.classifiers)))\n",
    "\n",
    "        # self.predict 메서드에서 np.argmax를 호출할 때\n",
    "        # 클래스 레이블이 0부터 시작되어야 하므로 LabelEncoder를 사용합니다\n",
    "        self.lablenc_ = LabelEncoder()\n",
    "        self.lablenc_.fit(y)\n",
    "        self.classes_ = self.lablenc_.classes_\n",
    "        self.classifiers_ = []\n",
    "        for clf in self.classifiers:\n",
    "            fitted_clf = clone(clf).fit(X, self.lablenc_.transform(y))\n",
    "            self.classifiers_.append(fitted_clf)\n",
    "        return self\n",
    "\n",
    "    def predict(self, X):\n",
    "        \"\"\"X에 대한 클래스 레이블을 예측합니다\n",
    "\n",
    "        매개변수\n",
    "        ----------\n",
    "        X : {배열 타입, 희소 행렬},\n",
    "            크기 = [n_samples, n_features]\n",
    "            샘플 데이터 행렬\n",
    "        \n",
    "        반환값\n",
    "        ----------\n",
    "        maj_vote : 배열 타입, 크기 = [n_samples]\n",
    "            예측된 클래스 레이블\n",
    "        \n",
    "        \"\"\"\n",
    "        if self.vote == 'probability':\n",
    "            maj_vote = np.argmax(self.predict_proba(X), axis=1)\n",
    "        else:  # 'classlabel' 투표\n",
    "\n",
    "            # clf.predict 메서드를 사용하여 결과를 모읍니다\n",
    "            predictions = np.asarray([clf.predict(X)\n",
    "                                      for clf in self.classifiers_]).T\n",
    "\n",
    "            maj_vote = np.apply_along_axis(\n",
    "                                      lambda x:\n",
    "                                      np.argmax(np.bincount(x,\n",
    "                                                weights=self.weights)),\n",
    "                                      axis=1,\n",
    "                                      arr=predictions)\n",
    "        maj_vote = self.lablenc_.inverse_transform(maj_vote)\n",
    "        return maj_vote\n",
    "\n",
    "    def predict_proba(self, X):\n",
    "        \"\"\"X에 대한 클래스 확률을 예측합니다\n",
    "\n",
    "        매개변수\n",
    "        ----------\n",
    "        X : {배열 타입, 희소 행렬},\n",
    "            크기 = [n_samples, n_features]\n",
    "            n_samples는 샘플의 개수고 n_features는 특성의 개수인\n",
    "            샘플 데이터 행렬\n",
    "        \n",
    "        반환값\n",
    "        ----------\n",
    "        avg_proba : 배열 타입,\n",
    "            크기 = [n_samples, n_classes]\n",
    "            샘플마다 가중치가 적용된 클래스의 평균 확률\n",
    "        \n",
    "        \"\"\"\n",
    "        probas = np.asarray([clf.predict_proba(X)\n",
    "                             for clf in self.classifiers_])\n",
    "        avg_proba = np.average(probas, axis=0, weights=self.weights)\n",
    "        return avg_proba\n",
    "\n",
    "    def get_params(self, deep=True):\n",
    "        \"\"\"GridSearch를 위해 분류기의 매개변수 이름을 반환합니다\"\"\"\n",
    "        if not deep:\n",
    "            return super(MajorityVoteClassifier, self).get_params(deep=False)\n",
    "        else:\n",
    "            out = self.named_classifiers.copy()\n",
    "            for name, step in self.named_classifiers.items():\n",
    "                for key, value in step.get_params(deep=True).items():\n",
    "                    out['%s__%s' % (name, key)] = value\n",
    "            return out"
   ]
  },
  {
   "cell_type": "code",
   "execution_count": 7,
   "metadata": {},
   "outputs": [],
   "source": [
    "from sklearn import datasets\n",
    "from sklearn.preprocessing import StandardScaler\n",
    "from sklearn.preprocessing import LabelEncoder\n",
    "from sklearn.model_selection import train_test_split"
   ]
  },
  {
   "cell_type": "code",
   "execution_count": 8,
   "metadata": {},
   "outputs": [],
   "source": [
    "iris = datasets.load_iris()\n",
    "X, y = iris.data[50:, [1, 2]], iris.target[50:]\n",
    "le = LabelEncoder()\n",
    "y = le.fit_transform(y)\n",
    "\n",
    "X_train, X_test, y_train, y_test = train_test_split(X, y, \n",
    "                                                    test_size=0.5, \n",
    "                                                    random_state=1,\n",
    "                                                    stratify=y)"
   ]
  },
  {
   "cell_type": "markdown",
   "metadata": {},
   "source": [
    "조금 더 고차원적인 정확도 검증을 위해 k-겹 교차 검증(k-fold cross validation)을 사용하겠습니다. 자세한 내용은 추후에 다루도록 하고, 간단하게만 설명하자면 훈련 데이터셋을 무작위로 k개의 집단으로 나눈 뒤, k개 중 1개씩 돌아가면서 테스트 데이터셋의 역할을 맡습니다. 이를 테스트 폴드(fold)라고 합니다. 이렇게 k번의 훈련과 테스트를 거친 뒤, 추정 성능(즉, 분류 정확도 또는 오차 등)를 사용해 모델의 평균 성능을 계산하는 방식입니다. 수많은 연구와 논문을 통해 학계에서 경험적으로 얻은 지식에 따르면 일반적으로 $k=10$일 때 가장 좋은 언더피팅-오버피팅 트레이드 오프를 가집니다.  \n",
    "또한 검증 지표를 나타내기 위해 정확도가 아닌 ROC AUC(Receiver Operating Characteristic Area Under the Curve)라는 지표를 사용하겠습니다. 이 지표는 모델의 예측 성능을 나타내는 ROC 곡선의 아래 면적을 계산한 것으로, 모든 예측을 정확히 했을 때 1의 값을, 하나도 맞히지 못했을 때 0의 값을 가집니다. 곡선 아래 면적이 클수록, 다시 말해 ROC AUC 점수가 높을수록 정확도가 높다고 판단할 수 있습니다."
   ]
  },
  {
   "cell_type": "code",
   "execution_count": 9,
   "metadata": {},
   "outputs": [
    {
     "name": "stdout",
     "output_type": "stream",
     "text": [
      "10-겹 교차 검증:\n",
      "\n",
      "ROC AUC: 0.92 (+/- 0.15) [Logistic regression]\n",
      "ROC AUC: 0.87 (+/- 0.18) [Decision tree]\n"
     ]
    }
   ],
   "source": [
    "from sklearn.linear_model import LogisticRegression\n",
    "from sklearn.tree import DecisionTreeClassifier\n",
    "from sklearn.pipeline import Pipeline\n",
    "from sklearn.model_selection import cross_val_score\n",
    "\n",
    "clf1 = LogisticRegression(penalty='l2', \n",
    "                          C=0.001,\n",
    "                          random_state=1)\n",
    "\n",
    "clf2 = DecisionTreeClassifier(max_depth=1,\n",
    "                              criterion='entropy',\n",
    "                              random_state=0)\n",
    "\n",
    "pipe1 = Pipeline([['sc', StandardScaler()],\n",
    "                  ['clf', clf1]])\n",
    "pipe2 = Pipeline([['sc', StandardScaler()],\n",
    "                  ['clf', clf2]])\n",
    "\n",
    "clf_labels = ['Logistic regression', 'Decision tree']\n",
    "\n",
    "print('10-겹 교차 검증:\\n')\n",
    "for clf, label in zip([pipe1, pipe2], clf_labels):\n",
    "    scores = cross_val_score(estimator=clf,\n",
    "                             X=X_train,\n",
    "                             y=y_train,\n",
    "                             cv=10,\n",
    "                             scoring='roc_auc')\n",
    "    print(\"ROC AUC: %0.2f (+/- %0.2f) [%s]\"\n",
    "          % (scores.mean(), scores.std(), label))"
   ]
  },
  {
   "cell_type": "markdown",
   "metadata": {},
   "source": [
    "여기서 로지스틱 회귀는 왜 파이프라인으로 훈련시켰는지 의문이 들 수 있습니다. 로지스틱 회귀는 결정 트리와 달리 스케일에 민감하다는 점 기억하시나요?. 붓꽃 데이터셋의 특성이 모두 같은 스케일(cm)로 측정되었지만 특성을 표준화 전처리하는 것은 좋은 습관입니다.\n",
    "이제 진짜 재밌는 부분으로 넘어가죠. 다수결 투표 앙상블을 위해 `MajorityVoteClassifier` 클래스로 각 분류기를 하나로 연결하겠습니다."
   ]
  },
  {
   "cell_type": "code",
   "execution_count": 10,
   "metadata": {},
   "outputs": [
    {
     "name": "stdout",
     "output_type": "stream",
     "text": [
      "ROC AUC: 0.92 (+/- 0.15) [Logistic regression]\n",
      "ROC AUC: 0.87 (+/- 0.18) [Decision tree]\n",
      "ROC AUC: 0.97 (+/- 0.07) [Majority voting]\n"
     ]
    }
   ],
   "source": [
    "mv_clf = MajorityVoteClassifier(classifiers=[pipe1, pipe2])\n",
    "\n",
    "clf_labels += ['Majority voting']\n",
    "all_clf = [pipe1, pipe2, mv_clf]\n",
    "\n",
    "for clf, label in zip(all_clf, clf_labels):\n",
    "    scores = cross_val_score(estimator=clf,\n",
    "                             X=X_train,\n",
    "                             y=y_train,\n",
    "                             cv=10,\n",
    "                             scoring='roc_auc')\n",
    "    print(\"ROC AUC: %0.2f (+/- %0.2f) [%s]\"\n",
    "          % (scores.mean(), scores.std(), label))"
   ]
  },
  {
   "cell_type": "markdown",
   "metadata": {},
   "source": [
    "결과에서 보듯이 10-겹 교차 검증으로 평가했을 때 `MajorityVoteClassifier`의 성능이 개별 분류기보다 뛰어납니다.\n",
    "이어서 사이킷런의 `VotingClassifier`를 사용해 보겠습니다. `estimators` 매개변수에는 분류기 이름과 객체로 구성된 튜플의 리스트를 입력합니다. 앞에서 만든 `MajorityVoteClassifier`는 `vote` 매개변수에 상관없이 `predict_proba` 메서드를 실행할 수 있지만 사이킷런의 `VotingClassifier`는 `voting='hard'`일 경우 `predict_proba` 메서드를 지원하지 않습니다. ROC AUC를 계산하기 위해서는 예측 확률이 필요하므로 `voting='soft'`로 지정합니다."
   ]
  },
  {
   "cell_type": "code",
   "execution_count": 11,
   "metadata": {},
   "outputs": [
    {
     "name": "stdout",
     "output_type": "stream",
     "text": [
      "ROC AUC: : 0.97 (+/- 0.07) [VotingClassifier]\n"
     ]
    }
   ],
   "source": [
    "from sklearn.model_selection import cross_validate\n",
    "from sklearn.ensemble import VotingClassifier\n",
    "\n",
    "vc = VotingClassifier(estimators=[\n",
    "    ('lr', pipe1), ('dt', pipe2)], voting='soft')\n",
    "\n",
    "scores = cross_validate(estimator=vc, X=X_train, y=y_train, \n",
    "                        cv=10, scoring='roc_auc')\n",
    "print(\"ROC AUC: : %0.2f (+/- %0.2f) [%s]\"\n",
    "      % (scores['test_score'].mean(), \n",
    "         scores['test_score'].std(), 'VotingClassifier'))"
   ]
  },
  {
   "cell_type": "markdown",
   "metadata": {},
   "source": [
    "`VotingClassifier`의 `fit` 메서드를 호출할 때 진행 과정을 출력하려면 0.23 버전에서 추가된 `verbose` 매개변수를 `True`로 지정해야 합니다. 여기에서는 앞서 만든 `vc` 객체의 `set_params` 메서드를 사용해 `verbose` 매개변수를 설정하겠습니다."
   ]
  },
  {
   "cell_type": "code",
   "execution_count": 12,
   "metadata": {},
   "outputs": [
    {
     "name": "stdout",
     "output_type": "stream",
     "text": [
      "[Voting] ....................... (1 of 2) Processing lr, total=   0.0s\n",
      "[Voting] ....................... (2 of 2) Processing dt, total=   0.0s\n"
     ]
    }
   ],
   "source": [
    "vc.set_params(verbose=True)\n",
    "vc = vc.fit(X_train, y_train)"
   ]
  },
  {
   "cell_type": "markdown",
   "metadata": {},
   "source": [
    "`voting='soft'`일 때 `predict` 메서드는 `predict_proba` 메서드에서 얻은 가장 큰 확률의 클래스를 예측으로 삼습니다. `predict_proba` 메서드는 각 분류기의 클래스 확률을 평균합니다."
   ]
  },
  {
   "cell_type": "code",
   "execution_count": 13,
   "metadata": {},
   "outputs": [
    {
     "data": {
      "text/plain": [
       "array([[0.7128842 , 0.2871158 ],\n",
       "       [0.71197988, 0.28802012],\n",
       "       [0.71113212, 0.28886788],\n",
       "       [0.71764955, 0.28235045],\n",
       "       [0.71793667, 0.28206333],\n",
       "       [0.26551979, 0.73448021],\n",
       "       [0.26505858, 0.73494142],\n",
       "       [0.26768586, 0.73231414],\n",
       "       [0.2694378 , 0.7305622 ],\n",
       "       [0.71614302, 0.28385698]])"
      ]
     },
     "execution_count": 13,
     "metadata": {},
     "output_type": "execute_result"
    }
   ],
   "source": [
    "vc.predict_proba(X_test[:10])"
   ]
  },
  {
   "cell_type": "markdown",
   "metadata": {},
   "source": [
    "## 4.3 앙상블 분류기의 평가와 튜닝\n",
    "이 절에서는 본 적 없는 데이터에 대한 `MajorityVoteClassifier`의 일반화 성능을 확인하기 위해 테스트 데이터셋에 대한 ROC 곡선을 그려보겠습니다. 테스트 데이터셋은 모델 선택에 사용하지 않았습니다. 테스트 데이터셋의 목적은 편향되지 않은 분류기의 일반화 성능을 추정하기 위해서입니다."
   ]
  },
  {
   "cell_type": "code",
   "execution_count": 14,
   "metadata": {},
   "outputs": [],
   "source": [
    "from sklearn.metrics import roc_curve\n",
    "from sklearn.metrics import auc\n",
    "import matplotlib.pyplot as plt"
   ]
  },
  {
   "cell_type": "code",
   "execution_count": 15,
   "metadata": {},
   "outputs": [
    {
     "data": {
      "image/png": "[encoded data removed]",
      "text/plain": [
       "<Figure size 640x480 with 1 Axes>"
      ]
     },
     "metadata": {},
     "output_type": "display_data"
    }
   ],
   "source": [
    "colors = ['black', 'orange', 'blue', 'green']\n",
    "linestyles = [':', '--', '-.', '-']\n",
    "for clf, label, clr, ls \\\n",
    "        in zip(all_clf,\n",
    "               clf_labels, colors, linestyles):\n",
    "\n",
    "    # 양성 클래스의 레이블이 1이라고 가정합니다\n",
    "    y_pred = clf.fit(X_train,\n",
    "                     y_train).predict_proba(X_test)[:, 1]\n",
    "    fpr, tpr, thresholds = roc_curve(y_true=y_test,\n",
    "                                     y_score=y_pred)\n",
    "    roc_auc = auc(x=fpr, y=tpr)\n",
    "    plt.plot(fpr, tpr,\n",
    "             color=clr,\n",
    "             linestyle=ls,\n",
    "             label='%s (auc = %0.2f)' % (label, roc_auc))\n",
    "\n",
    "plt.legend(loc='lower right')\n",
    "plt.plot([0, 1], [0, 1],\n",
    "         linestyle='--',\n",
    "         color='gray',\n",
    "         linewidth=2)\n",
    "\n",
    "plt.xlim([-0.1, 1.1])\n",
    "plt.ylim([-0.1, 1.1])\n",
    "plt.grid(alpha=0.5)\n",
    "plt.xlabel('False positive rate (FPR)')\n",
    "plt.ylabel('True positive rate (TPR)')\n",
    "plt.show()"
   ]
  },
  {
   "cell_type": "markdown",
   "metadata": {},
   "source": [
    "구해진 ROC 곡선에서 보듯이 앙상블 분류기는 테스트 데이터셋에서도 좋은 성능을 냅니다(ROC AUC=0.95). 로지스틱 회귀에서도 비슷한 성능을 내는데, 이는 아마도 작은 데이터셋에서 생기는 높은 분산 때문일 것으로 추정됩니다(이 경우 데이터셋을 어떻게 분할했는지에 따라 성능이 민감하게 변화합니다).  \n",
    "이 분류 문제에서는 두 개의 특성만 선택했기 때문에 앙상블의 결정 경계가 어떤 모습인지 확인해 볼 수 있습니다.  \n",
    "사실 로지스틱 회귀에 파이프라인에 이미 전처리 단계가 포함되어 있기 떄문에 모델 훈련 전에 따로 특성을 표준화할 필요는 없습니다. 여기서는 결정 트리의 결정 경계를 다른 모델과 같은 스케일로 나타내기 위해 사용했습니다."
   ]
  },
  {
   "cell_type": "code",
   "execution_count": 16,
   "metadata": {},
   "outputs": [],
   "source": [
    "sc = StandardScaler()\n",
    "X_train_std = sc.fit_transform(X_train)"
   ]
  },
  {
   "cell_type": "code",
   "execution_count": 17,
   "metadata": {},
   "outputs": [],
   "source": [
    "from itertools import product"
   ]
  },
  {
   "cell_type": "code",
   "execution_count": 18,
   "metadata": {},
   "outputs": [],
   "source": [
    "all_clf = [pipe1, pipe2, mv_clf]"
   ]
  },
  {
   "cell_type": "code",
   "execution_count": 19,
   "metadata": {},
   "outputs": [],
   "source": [
    "x_min = X_train_std[:, 0].min() - 1\n",
    "x_max = X_train_std[:, 0].max() + 1\n",
    "y_min = X_train_std[:, 1].min() - 1\n",
    "y_max = X_train_std[:, 1].max() + 1"
   ]
  },
  {
   "cell_type": "code",
   "execution_count": 20,
   "metadata": {},
   "outputs": [],
   "source": [
    "xx, yy = np.meshgrid(np.arange(x_min, x_max, 0.1),\n",
    "                     np.arange(y_min, y_max, 0.1))"
   ]
  },
  {
   "cell_type": "code",
   "execution_count": 21,
   "metadata": {},
   "outputs": [
    {
     "data": {
      "image/png": "[encoded data removed]",
      "text/plain": [
       "<Figure size 700x500 with 4 Axes>"
      ]
     },
     "metadata": {},
     "output_type": "display_data"
    }
   ],
   "source": [
    "f, axarr = plt.subplots(nrows=2, ncols=2, \n",
    "                        sharex='col', \n",
    "                        sharey='row', \n",
    "                        figsize=(7, 5))\n",
    "\n",
    "for idx, clf, tt in zip(product([0, 1], [0, 1]),\n",
    "                        all_clf, clf_labels):\n",
    "    clf.fit(X_train_std, y_train)\n",
    "    \n",
    "    Z = clf.predict(np.c_[xx.ravel(), yy.ravel()])\n",
    "    Z = Z.reshape(xx.shape)\n",
    "\n",
    "    axarr[idx[0], idx[1]].contourf(xx, yy, Z, alpha=0.3)\n",
    "    \n",
    "    axarr[idx[0], idx[1]].scatter(X_train_std[y_train==0, 0], \n",
    "                                  X_train_std[y_train==0, 1], \n",
    "                                  c='blue', \n",
    "                                  marker='^',\n",
    "                                  s=50)\n",
    "    \n",
    "    axarr[idx[0], idx[1]].scatter(X_train_std[y_train==1, 0], \n",
    "                                  X_train_std[y_train==1, 1], \n",
    "                                  c='green', \n",
    "                                  marker='o',\n",
    "                                  s=50)\n",
    "    \n",
    "    axarr[idx[0], idx[1]].set_title(tt)\n",
    "\n",
    "plt.text(-3.5, -5., \n",
    "         s='Sepal width [standardized]', \n",
    "         ha='center', va='center', fontsize=12)\n",
    "plt.text(-12.5, 4.5, \n",
    "         s='Petal length [standardized]', \n",
    "         ha='center', va='center', \n",
    "         fontsize=12, rotation=90)\n",
    "\n",
    "plt.show()"
   ]
  },
  {
   "cell_type": "markdown",
   "metadata": {},
   "source": [
    "이쯤에서 예상했겠지만 앙상블 분류기의 결정 경계는 개별 분류기의 결정 경계를 혼합한 것처럼 보입니다. 처음 볼 떄는 결정 경계가 $\\mathsf{sepal\\ width}\\ge -1$을 기준으로 $y$ 축에 수직으로 그어진 결정 트리의 경계와 비슷하게 보입니다."
   ]
  },
  {
   "cell_type": "markdown",
   "metadata": {},
   "source": [
    "## 4.3 배깅: 부트스트랩 샘플링을 통한 분류 앙상블\n",
    "배깅은 이전 절에서 구현한 `MajorityVoteClassifier`와 매우 밀접한 앙상블 학습 기법입니다. 앙상블에 있는 개별 분류기를 동일한 훈련 데이터셋으로 학습하는 것이 아니라 원본 훈련 데이터셋에서 부트스트랩 샘플(중복을 허용한 랜덤 샘플)을 뽑아서 사용합니다. 배깅을 bootstrap aggregating이라고도 합니다.  \n",
    "![그림 4-6](https://github.com/rickiepark/python-machine-learning-book-3rd-edition/blob/master/ch07/images/07_06.png?raw=true)"
   ]
  },
  {
   "cell_type": "markdown",
   "metadata": {},
   "source": [
    "### 4.3.2 배깅으로 와인 데이터셋 샘플 분류\n",
    "배깅을 적용하기 위해 새로운 데이터셋인 와인 데이터셋으로 좀 더 복잡한 분류 문제를 만들어 보겠습니다. 이 데이터셋은 178개의 와인 샘플과 여러 가지 화학 성분을 나타내는 13개의 특성으로 구성되어 있습니다. 여기서는 와인 클래스 2와 클래스 3만 사용하고 두 개의 특성 `Alcohol`과 `OD280/OD315 of diluted wines`만 사용하겠습니다."
   ]
  },
  {
   "cell_type": "code",
   "execution_count": 23,
   "metadata": {},
   "outputs": [],
   "source": [
    "import pandas as pd"
   ]
  },
  {
   "cell_type": "code",
   "execution_count": 24,
   "metadata": {},
   "outputs": [],
   "source": [
    "df_wine = pd.read_csv('https://archive.ics.uci.edu/ml/'\n",
    "                      'machine-learning-databases/wine/wine.data',\n",
    "                      header=None)"
   ]
  },
  {
   "cell_type": "code",
   "execution_count": 25,
   "metadata": {},
   "outputs": [],
   "source": [
    "df_wine.columns = ['Class label', 'Alcohol', 'Malic acid', 'Ash',\n",
    "                   'Alcalinity of ash', 'Magnesium', 'Total phenols',\n",
    "                   'Flavanoids', 'Nonflavanoid phenols', 'Proanthocyanins',\n",
    "                   'Color intensity', 'Hue', 'OD280/OD315 of diluted wines',\n",
    "                   'Proline']"
   ]
  },
  {
   "cell_type": "code",
   "execution_count": 27,
   "metadata": {},
   "outputs": [
    {
     "data": {
      "text/html": [
       "<div>\n",
       "<style scoped>\n",
       "    .dataframe tbody tr th:only-of-type {\n",
       "        vertical-align: middle;\n",
       "    }\n",
       "\n",
       "    .dataframe tbody tr th {\n",
       "        vertical-align: top;\n",
       "    }\n",
       "\n",
       "    .dataframe thead th {\n",
       "        text-align: right;\n",
       "    }\n",
       "</style>\n",
       "<table border=\"1\" class=\"dataframe\">\n",
       "  <thead>\n",
       "    <tr style=\"text-align: right;\">\n",
       "      <th></th>\n",
       "      <th>Class label</th>\n",
       "      <th>Alcohol</th>\n",
       "      <th>Malic acid</th>\n",
       "      <th>Ash</th>\n",
       "      <th>Alcalinity of ash</th>\n",
       "      <th>Magnesium</th>\n",
       "      <th>Total phenols</th>\n",
       "      <th>Flavanoids</th>\n",
       "      <th>Nonflavanoid phenols</th>\n",
       "      <th>Proanthocyanins</th>\n",
       "      <th>Color intensity</th>\n",
       "      <th>Hue</th>\n",
       "      <th>OD280/OD315 of diluted wines</th>\n",
       "      <th>Proline</th>\n",
       "    </tr>\n",
       "  </thead>\n",
       "  <tbody>\n",
       "    <tr>\n",
       "      <th>0</th>\n",
       "      <td>1</td>\n",
       "      <td>14.23</td>\n",
       "      <td>1.71</td>\n",
       "      <td>2.43</td>\n",
       "      <td>15.6</td>\n",
       "      <td>127</td>\n",
       "      <td>2.80</td>\n",
       "      <td>3.06</td>\n",
       "      <td>0.28</td>\n",
       "      <td>2.29</td>\n",
       "      <td>5.64</td>\n",
       "      <td>1.04</td>\n",
       "      <td>3.92</td>\n",
       "      <td>1065</td>\n",
       "    </tr>\n",
       "    <tr>\n",
       "      <th>1</th>\n",
       "      <td>1</td>\n",
       "      <td>13.20</td>\n",
       "      <td>1.78</td>\n",
       "      <td>2.14</td>\n",
       "      <td>11.2</td>\n",
       "      <td>100</td>\n",
       "      <td>2.65</td>\n",
       "      <td>2.76</td>\n",
       "      <td>0.26</td>\n",
       "      <td>1.28</td>\n",
       "      <td>4.38</td>\n",
       "      <td>1.05</td>\n",
       "      <td>3.40</td>\n",
       "      <td>1050</td>\n",
       "    </tr>\n",
       "    <tr>\n",
       "      <th>2</th>\n",
       "      <td>1</td>\n",
       "      <td>13.16</td>\n",
       "      <td>2.36</td>\n",
       "      <td>2.67</td>\n",
       "      <td>18.6</td>\n",
       "      <td>101</td>\n",
       "      <td>2.80</td>\n",
       "      <td>3.24</td>\n",
       "      <td>0.30</td>\n",
       "      <td>2.81</td>\n",
       "      <td>5.68</td>\n",
       "      <td>1.03</td>\n",
       "      <td>3.17</td>\n",
       "      <td>1185</td>\n",
       "    </tr>\n",
       "    <tr>\n",
       "      <th>3</th>\n",
       "      <td>1</td>\n",
       "      <td>14.37</td>\n",
       "      <td>1.95</td>\n",
       "      <td>2.50</td>\n",
       "      <td>16.8</td>\n",
       "      <td>113</td>\n",
       "      <td>3.85</td>\n",
       "      <td>3.49</td>\n",
       "      <td>0.24</td>\n",
       "      <td>2.18</td>\n",
       "      <td>7.80</td>\n",
       "      <td>0.86</td>\n",
       "      <td>3.45</td>\n",
       "      <td>1480</td>\n",
       "    </tr>\n",
       "    <tr>\n",
       "      <th>4</th>\n",
       "      <td>1</td>\n",
       "      <td>13.24</td>\n",
       "      <td>2.59</td>\n",
       "      <td>2.87</td>\n",
       "      <td>21.0</td>\n",
       "      <td>118</td>\n",
       "      <td>2.80</td>\n",
       "      <td>2.69</td>\n",
       "      <td>0.39</td>\n",
       "      <td>1.82</td>\n",
       "      <td>4.32</td>\n",
       "      <td>1.04</td>\n",
       "      <td>2.93</td>\n",
       "      <td>735</td>\n",
       "    </tr>\n",
       "  </tbody>\n",
       "</table>\n",
       "</div>"
      ],
      "text/plain": [
       "   Class label  Alcohol  Malic acid   Ash  Alcalinity of ash  Magnesium  \\\n",
       "0            1    14.23        1.71  2.43               15.6        127   \n",
       "1            1    13.20        1.78  2.14               11.2        100   \n",
       "2            1    13.16        2.36  2.67               18.6        101   \n",
       "3            1    14.37        1.95  2.50               16.8        113   \n",
       "4            1    13.24        2.59  2.87               21.0        118   \n",
       "\n",
       "   Total phenols  Flavanoids  Nonflavanoid phenols  Proanthocyanins  \\\n",
       "0           2.80        3.06                  0.28             2.29   \n",
       "1           2.65        2.76                  0.26             1.28   \n",
       "2           2.80        3.24                  0.30             2.81   \n",
       "3           3.85        3.49                  0.24             2.18   \n",
       "4           2.80        2.69                  0.39             1.82   \n",
       "\n",
       "   Color intensity   Hue  OD280/OD315 of diluted wines  Proline  \n",
       "0             5.64  1.04                          3.92     1065  \n",
       "1             4.38  1.05                          3.40     1050  \n",
       "2             5.68  1.03                          3.17     1185  \n",
       "3             7.80  0.86                          3.45     1480  \n",
       "4             4.32  1.04                          2.93      735  "
      ]
     },
     "execution_count": 27,
     "metadata": {},
     "output_type": "execute_result"
    }
   ],
   "source": [
    "df_wine.head()"
   ]
  },
  {
   "cell_type": "code",
   "execution_count": 28,
   "metadata": {},
   "outputs": [],
   "source": [
    "# 클래스 1 제외하기\n",
    "df_wine = df_wine[df_wine['Class label'] != 1]"
   ]
  },
  {
   "cell_type": "code",
   "execution_count": 29,
   "metadata": {},
   "outputs": [],
   "source": [
    "y = df_wine['Class label'].values\n",
    "X = df_wine[['Alcohol', 'OD280/OD315 of diluted wines']].values"
   ]
  },
  {
   "cell_type": "code",
   "execution_count": 30,
   "metadata": {},
   "outputs": [],
   "source": [
    "from sklearn.preprocessing import LabelEncoder # 전처리 파트에서 자세히 다루겠습니다.\n",
    "from sklearn.model_selection import train_test_split\n",
    "\n",
    "le = LabelEncoder()\n",
    "y = le.fit_transform(y)\n",
    "\n",
    "X_train, X_test, y_train, y_test = train_test_split(X, y, \n",
    "                                                    test_size=0.2, \n",
    "                                                    random_state=1,\n",
    "                                                    stratify=y)"
   ]
  },
  {
   "cell_type": "markdown",
   "metadata": {},
   "source": [
    "사이킷런에는 `BaggingClassifier` 분류기가 이미 구현되어 있습니다. 이 클래스는 `ensemble` 모듈에서 임포트할 수 있습니다. 여기서는 훈련 데이터셋으로부터 추출한 부트스트랩 샘플에서 가지치기가 없는 500개의 결정 트리를 학습하여 앙상블을 만들겠습니다."
   ]
  },
  {
   "cell_type": "code",
   "execution_count": 31,
   "metadata": {},
   "outputs": [],
   "source": [
    "from sklearn.ensemble import BaggingClassifier\n",
    "from sklearn.tree import DecisionTreeClassifier"
   ]
  },
  {
   "cell_type": "code",
   "execution_count": 32,
   "metadata": {},
   "outputs": [],
   "source": [
    "tree = DecisionTreeClassifier(criterion='entropy', # 지니 불순도 대신 엔트로피를 기준으로 구분\n",
    "                              max_depth=None,\n",
    "                              random_state=1)"
   ]
  },
  {
   "cell_type": "code",
   "execution_count": 33,
   "metadata": {},
   "outputs": [],
   "source": [
    "bag = BaggingClassifier(base_estimator=tree,\n",
    "                        n_estimators=500, \n",
    "                        max_samples=1.0, \n",
    "                        max_features=1.0, \n",
    "                        bootstrap=True, \n",
    "                        bootstrap_features=False, \n",
    "                        n_jobs=1, \n",
    "                        random_state=1)"
   ]
  },
  {
   "cell_type": "markdown",
   "metadata": {},
   "source": [
    "다음으로 배깅 분류기와 가지치기가 없는 단일 결정 트리에서 훈련 데이터셋과 테스트 데이터셋의 예측 정확도를 계산하여 성능을 비교합니다."
   ]
  },
  {
   "cell_type": "code",
   "execution_count": 34,
   "metadata": {},
   "outputs": [],
   "source": [
    "from sklearn.metrics import accuracy_score"
   ]
  },
  {
   "cell_type": "code",
   "execution_count": 35,
   "metadata": {},
   "outputs": [],
   "source": [
    "tree = tree.fit(X_train, y_train)\n",
    "y_train_pred = tree.predict(X_train)\n",
    "y_test_pred = tree.predict(X_test)"
   ]
  },
  {
   "cell_type": "code",
   "execution_count": 36,
   "metadata": {},
   "outputs": [
    {
     "name": "stdout",
     "output_type": "stream",
     "text": [
      "결정 트리의 훈련 정확도/테스트 정확도 1.000/0.833\n"
     ]
    }
   ],
   "source": [
    "\n",
    "tree_train = accuracy_score(y_train, y_train_pred)\n",
    "tree_test = accuracy_score(y_test, y_test_pred)\n",
    "print('결정 트리의 훈련 정확도/테스트 정확도 %.3f/%.3f'\n",
    "      % (tree_train, tree_test))"
   ]
  },
  {
   "cell_type": "code",
   "execution_count": 37,
   "metadata": {},
   "outputs": [],
   "source": [
    "bag = bag.fit(X_train, y_train)\n",
    "y_train_pred = bag.predict(X_train)\n",
    "y_test_pred = bag.predict(X_test)"
   ]
  },
  {
   "cell_type": "code",
   "execution_count": 38,
   "metadata": {},
   "outputs": [
    {
     "name": "stdout",
     "output_type": "stream",
     "text": [
      "배깅의 훈련 정확도/테스트 정확도 1.000/0.917\n"
     ]
    }
   ],
   "source": [
    "bag_train = accuracy_score(y_train, y_train_pred) \n",
    "bag_test = accuracy_score(y_test, y_test_pred) \n",
    "print('배깅의 훈련 정확도/테스트 정확도 %.3f/%.3f'\n",
    "      % (bag_train, bag_test))"
   ]
  },
  {
   "cell_type": "markdown",
   "metadata": {},
   "source": [
    "출력된 정확도를 보면 가지치기가 없는 결정 트리는 모든 훈련 샘플을 정확하게 예측했습니다. 그러나 정작 중요한 테스트 데이터셋의 정확도는 확실히 낮기 때문에 모델이 오버피팅되어 있음을 나타냅니다.  \n",
    "결정 트리와 배깅 분류기의 훈련 정확도가 훈련 데이터셋과 비슷하지만 (둘 다 100%), 테스트 데이터셋의 정확도로 미루어볼 때 배깅 분류기가 일반화 성능이 더 나을 것 같습니다. 다음으로 이 두 분류기의 결정 경계를 비교해봅시다."
   ]
  },
  {
   "cell_type": "code",
   "execution_count": 39,
   "metadata": {},
   "outputs": [],
   "source": [
    "x_min = X_train[:, 0].min() - 1\n",
    "x_max = X_train[:, 0].max() + 1\n",
    "y_min = X_train[:, 1].min() - 1\n",
    "y_max = X_train[:, 1].max() + 1"
   ]
  },
  {
   "cell_type": "code",
   "execution_count": 40,
   "metadata": {},
   "outputs": [],
   "source": [
    "xx, yy = np.meshgrid(np.arange(x_min, x_max, 0.1),\n",
    "                     np.arange(y_min, y_max, 0.1))"
   ]
  },
  {
   "cell_type": "code",
   "execution_count": 42,
   "metadata": {},
   "outputs": [
    {
     "data": {
      "image/png": "[encoded data removed]",
      "text/plain": [
       "<Figure size 800x300 with 2 Axes>"
      ]
     },
     "metadata": {},
     "output_type": "display_data"
    }
   ],
   "source": [
    "f, axarr = plt.subplots(nrows=1, ncols=2, \n",
    "                        sharex='col', \n",
    "                        sharey='row', \n",
    "                        figsize=(8, 3))\n",
    "for idx, clf, tt in zip([0, 1],\n",
    "                        [tree, bag],\n",
    "                        ['Decision tree', 'Bagging']):\n",
    "    clf.fit(X_train, y_train)\n",
    "\n",
    "    Z = clf.predict(np.c_[xx.ravel(), yy.ravel()])\n",
    "    Z = Z.reshape(xx.shape)\n",
    "\n",
    "    axarr[idx].contourf(xx, yy, Z, alpha=0.3)\n",
    "    axarr[idx].scatter(X_train[y_train == 0, 0],\n",
    "                       X_train[y_train == 0, 1],\n",
    "                       c='blue', marker='^')\n",
    "\n",
    "    axarr[idx].scatter(X_train[y_train == 1, 0],\n",
    "                       X_train[y_train == 1, 1],\n",
    "                       c='green', marker='o')\n",
    "\n",
    "    axarr[idx].set_title(tt)\n",
    "\n",
    "axarr[0].set_ylabel('Alcohol', fontsize=12)\n",
    "\n",
    "plt.tight_layout()\n",
    "plt.text(0, -0.2,\n",
    "         s='OD280/OD315 of diluted wines',\n",
    "         ha='center',\n",
    "         va='center',\n",
    "         fontsize=12,\n",
    "         transform=axarr[1].transAxes)\n",
    "plt.show()"
   ]
  },
  {
   "cell_type": "markdown",
   "metadata": {},
   "source": [
    "결과 그래프에서 보듯이 결정 트리의 선형 결정 경계가 배깅 앙상블에서 더 부드러워졌습니다.  \n",
    "실전에서 고차원 데이터셋을 사용하는 더 복잡한 분류 문제라면 단일 결정 트리가 쉽게 오버피팅될 수 있습니다. 이런 경우에 배깅 알고리즘의 강력함이 제대로 발휘될 수 있습니다.  \n",
    "마지막으로 배깅 알고리즘은 오버피팅을 감소시키는 데는 효과적이지만, 반대로 언더피팅의 감소에는 효과적이지 않습니다. 즉, 모델이 너무 단순해서 데이터에 있는 경향을 잘 잡아내지 못합니다. 이것이 배깅을 수행할 때 가지치기하지 않은 결정 트리와 같이 복잡한 결정 트리를 분류기로 사용해 앙상블을 만드는 이유입니다."
   ]
  },
  {
   "cell_type": "markdown",
   "metadata": {},
   "source": [
    "### 4.3.3 OOB 샘플\n",
    "랜덤 포레스트와 배깅은 모두 기본적으로 부트스트랩 샘플링을 사용하기 때문에 분류기마다 훈련에 사용하지 않는 여분의 샘플이 남습니다. 이를 OOB(Out-Of-Bag) 샘플이라고 합니다. 이 샘플을 이용하면 검증 데이터셋을 만들지 않고도 앙상블 모델을 평가할 수 있습니다. 사이킷런에서는 `oob_score` 매개변수를 `True`로 설정하면 됩니다. 이 매개변수의 기본값은 `False`입니다.  \n",
    "사이킷런의 랜덤 포레스트는 분류일 경우 OOB 샘플에 대한 각 트리의 예측 확률을 누적하여 가장 큰 확률을 가진 클래스를 타겟과 비교하여 정확도를 계산합니다. 회귀일 경우에는 각 트리의 예측 평균에 대한 $R^2$ 점수를 계산합니다. 이 점수는 `oob_score_` 속성에 저장되어 있습니다. `RandomForestClassifier`에 와인 데이터셋을 적용하여 OOB 점수를 계산해보겠습니다."
   ]
  },
  {
   "cell_type": "code",
   "execution_count": 43,
   "metadata": {},
   "outputs": [],
   "source": [
    "from sklearn.ensemble import RandomForestClassifier"
   ]
  },
  {
   "cell_type": "code",
   "execution_count": 44,
   "metadata": {},
   "outputs": [],
   "source": [
    "rf = RandomForestClassifier(oob_score=True,\n",
    "                            random_state=1)"
   ]
  },
  {
   "cell_type": "code",
   "execution_count": 45,
   "metadata": {},
   "outputs": [
    {
     "data": {
      "text/plain": [
       "RandomForestClassifier(oob_score=True, random_state=1)"
      ]
     },
     "execution_count": 45,
     "metadata": {},
     "output_type": "execute_result"
    }
   ],
   "source": [
    "rf.fit(X_train, y_train)"
   ]
  },
  {
   "cell_type": "code",
   "execution_count": 46,
   "metadata": {},
   "outputs": [],
   "source": [
    "rf_train_score = rf.score(X_train, y_train)\n",
    "rf_test_score = rf.score(X_test, y_test)"
   ]
  },
  {
   "cell_type": "code",
   "execution_count": 47,
   "metadata": {},
   "outputs": [
    {
     "name": "stdout",
     "output_type": "stream",
     "text": [
      "랜덤 포레스트의 훈련 정확도/테스트 정확도 1.000/0.917\n",
      "랜덤 포레스트의 OOB 정확도 0.884\n"
     ]
    }
   ],
   "source": [
    "print('랜덤 포레스트의 훈련 정확도/테스트 정확도 %.3f/%.3f' % \n",
    "      (rf_train_score, rf_test_score))\n",
    "print('랜덤 포레스트의 OOB 정확도 %.3f' % rf.oob_score_)"
   ]
  },
  {
   "cell_type": "markdown",
   "metadata": {},
   "source": [
    "배깅의 OOB 점수 계산 방식은 랜덤 포레스트와 거의 동일합니다. 다만 `base_estimator`에 지정된 분류기가 `predict_proba` 메서드를 지원하지 않을 경우 예측 클래스를 카운팅하여 가장 높은 값의 클래스를 사용해 정확도를 계산합니다. 본문에서 만든 것과 동일한 `BaggingClassifier` 모델를 만들고 OOB 점수를 계산해 보겠습니다."
   ]
  },
  {
   "cell_type": "code",
   "execution_count": 48,
   "metadata": {},
   "outputs": [],
   "source": [
    "bag = BaggingClassifier(base_estimator=tree,\n",
    "                        n_estimators=500,\n",
    "                        oob_score=True,\n",
    "                        random_state=1)"
   ]
  },
  {
   "cell_type": "code",
   "execution_count": 49,
   "metadata": {},
   "outputs": [
    {
     "data": {
      "text/plain": [
       "BaggingClassifier(base_estimator=DecisionTreeClassifier(criterion='entropy',\n",
       "                                                        random_state=1),\n",
       "                  n_estimators=500, oob_score=True, random_state=1)"
      ]
     },
     "execution_count": 49,
     "metadata": {},
     "output_type": "execute_result"
    }
   ],
   "source": [
    "bag.fit(X_train, y_train)"
   ]
  },
  {
   "cell_type": "code",
   "execution_count": 50,
   "metadata": {},
   "outputs": [],
   "source": [
    "bag_train_score = bag.score(X_train, y_train)\n",
    "bag_test_score = bag.score(X_test, y_test)"
   ]
  },
  {
   "cell_type": "code",
   "execution_count": 51,
   "metadata": {},
   "outputs": [
    {
     "name": "stdout",
     "output_type": "stream",
     "text": [
      "배깅의 훈련 정확도/테스트 정확도 1.000/0.917\n",
      "배깅의 OOB 정확도 0.895\n"
     ]
    }
   ],
   "source": [
    "print('배깅의 훈련 정확도/테스트 정확도 %.3f/%.3f' % \n",
    "      (bag_train_score, bag_test_score))\n",
    "print('배깅의 OOB 정확도 %.3f' % bag.oob_score_)"
   ]
  },
  {
   "cell_type": "markdown",
   "metadata": {},
   "source": [
    "## 4.4 약한 학습기를 이용한 에이다부스트\n",
    "마지막 앙상블 기법은 **부스팅**(boosting)입니다. 여기서는 그 중 가장 유명한 부스팅 기법인 에이다부스트(AdaBoost, Adaptive Boosting)에 초점을 맞추겠습니다.  \n",
    "부스팅에서 앙상블은 **약한 학습기**(weak learner)라고도 하는 매우 간단한 분류기로 구성됩니다. 이 분류기의 성능이라고 해봐야 랜덤 추측~~한마디로 찍어서 얻어걸리기~~보다 조금 성능이 좋을 뿐입니다. 약한 학습기의 전형적인 예는 깊이가 1인 결정 트리가 있습니다.~~이걸로 뭘 분류를 해...~~ 부스팅의 핵심 아이디어는 분류하기 어려운 훈련 샘플에 초점을 맞추는 것입니다. 즉, 잘못 분류된 훈련 샘플을 그 다음 약한 학습기가 학습하여 앙상블 성능을 향상시킵니다. \n",
    "### 4.4.1 부스팅 작동 원리\n",
    "배깅과 달리 부스팅의 초창기 방법은 중복을 허용하지 않고 훈련 데이터셋에서 랜덤 샘플을 추출하여 부분집합을 구성합니다. 원본 부스팅 과정은 다음 네 개의 주요 단계로 요약할 수 있습니다.  \n",
    "1. 훈련 데이터셋 $D$에서 중복을 허용하지 않고 랜덤한 부분집합 $d_1$을 뽑아 약한 학습기 $C_1$을 훈련합니다.\n",
    "2. 훈련 데이터셋에서 중복을 허용하지 않고 두 번째 랜덤한 훈련 부분집합 $d_2$를 뽑고 이전에 잘못 분류된 샘플의 50%를 더해서 약한 학습기 $C_2$를 훈련합니다.\n",
    "3. 훈련 데이터셋 $D$에서 $C_1$과 $C_2$에서 잘못 분류한 훈련 샘플 $d_3$를 찾아 세 번째 약한 학습기인 $C_3$를 훈련합니다. \n",
    "4. 약한 학습기 $C_1$, $C_2$, $C_3$를 다수결 투표로 연결합니다.  \n",
    "\n",
    "![그림 4-9](https://github.com/rickiepark/python-machine-learning-book-3rd-edition/blob/master/ch07/images/07_09.png?raw=true)"
   ]
  },
  {
   "cell_type": "markdown",
   "metadata": {},
   "source": [
    "### 4.4.2 사이킷런에서 에이다부스트 사용\n",
    "이전 절에서 배깅 분류기를 훈련할 때 사용한 와인 데이터셋을 다시 사용합니다. `base_estimator` 속성으로 깊이가 1인 결정 트리를 전달하여 트리 500개로 구성된 `AdaBoostClassifier`를 훈련시킵니다."
   ]
  },
  {
   "cell_type": "code",
   "execution_count": 52,
   "metadata": {},
   "outputs": [],
   "source": [
    "from sklearn.ensemble import AdaBoostClassifier"
   ]
  },
  {
   "cell_type": "code",
   "execution_count": 53,
   "metadata": {},
   "outputs": [],
   "source": [
    "# 약한 분류기 - 깊이 1짜리 결정 트리\n",
    "tree = DecisionTreeClassifier(criterion='entropy', \n",
    "                              max_depth=1,\n",
    "                              random_state=1)"
   ]
  },
  {
   "cell_type": "code",
   "execution_count": 54,
   "metadata": {},
   "outputs": [],
   "source": [
    "ada = AdaBoostClassifier(base_estimator=tree,\n",
    "                         n_estimators=500, \n",
    "                         learning_rate=0.1,\n",
    "                         random_state=1)"
   ]
  },
  {
   "cell_type": "code",
   "execution_count": 55,
   "metadata": {},
   "outputs": [],
   "source": [
    "tree = tree.fit(X_train, y_train)\n",
    "y_train_pred = tree.predict(X_train)\n",
    "y_test_pred = tree.predict(X_test)"
   ]
  },
  {
   "cell_type": "code",
   "execution_count": 56,
   "metadata": {},
   "outputs": [
    {
     "name": "stdout",
     "output_type": "stream",
     "text": [
      "결정 트리의 훈련 정확도/테스트 정확도 0.916/0.875\n"
     ]
    }
   ],
   "source": [
    "tree_train = accuracy_score(y_train, y_train_pred)\n",
    "tree_test = accuracy_score(y_test, y_test_pred)\n",
    "print('결정 트리의 훈련 정확도/테스트 정확도 %.3f/%.3f'\n",
    "      % (tree_train, tree_test))"
   ]
  },
  {
   "cell_type": "code",
   "execution_count": 57,
   "metadata": {},
   "outputs": [],
   "source": [
    "ada = ada.fit(X_train, y_train)\n",
    "y_train_pred = ada.predict(X_train)\n",
    "y_test_pred = ada.predict(X_test)"
   ]
  },
  {
   "cell_type": "code",
   "execution_count": 58,
   "metadata": {},
   "outputs": [
    {
     "name": "stdout",
     "output_type": "stream",
     "text": [
      "에이다부스트의 훈련 정확도/테스트 정확도 1.000/0.917\n"
     ]
    }
   ],
   "source": [
    "ada_train = accuracy_score(y_train, y_train_pred) \n",
    "ada_test = accuracy_score(y_test, y_test_pred) \n",
    "print('에이다부스트의 훈련 정확도/테스트 정확도 %.3f/%.3f'\n",
    "      % (ada_train, ada_test))"
   ]
  },
  {
   "cell_type": "markdown",
   "metadata": {},
   "source": [
    "보다시피 깊이가 1인 결정 트리는 과소적합된 것 같습니다. 이전 절에서 보았던 가지치기가 없는 결정 트리와는 반대입니다.  \n",
    "에이다부스트 모델은 훈련 데이터셋의 모든 클래스 레이블을 정확하게 예측하고 깊이가 1인 결정 트리에 비해 테스트 데이터셋 성능도 높습니다. 훈련 성능과 테스트 성능 사이의 간격이 크므로 모델의 편향을 줄임으로써 추가적인 분산이 발생했습니다.  \n",
    "끝으로 결정 영역의 모습을 확인하겠습니다."
   ]
  },
  {
   "cell_type": "code",
   "execution_count": 60,
   "metadata": {},
   "outputs": [],
   "source": [
    "x_min, x_max = X_train[:, 0].min() - 1, X_train[:, 0].max() + 1\n",
    "y_min, y_max = X_train[:, 1].min() - 1, X_train[:, 1].max() + 1"
   ]
  },
  {
   "cell_type": "code",
   "execution_count": 61,
   "metadata": {},
   "outputs": [],
   "source": [
    "xx, yy = np.meshgrid(np.arange(x_min, x_max, 0.1),\n",
    "                     np.arange(y_min, y_max, 0.1))"
   ]
  },
  {
   "cell_type": "code",
   "execution_count": 62,
   "metadata": {},
   "outputs": [
    {
     "data": {
      "image/png": "[encoded data removed]",
      "text/plain": [
       "<Figure size 800x300 with 2 Axes>"
      ]
     },
     "metadata": {},
     "output_type": "display_data"
    }
   ],
   "source": [
    "f, axarr = plt.subplots(1, 2, sharex='col', sharey='row', figsize=(8, 3))\n",
    "for idx, clf, tt in zip([0, 1],\n",
    "                        [tree, ada],\n",
    "                        ['Decision tree', 'AdaBoost']):\n",
    "    clf.fit(X_train, y_train)\n",
    "\n",
    "    Z = clf.predict(np.c_[xx.ravel(), yy.ravel()])\n",
    "    Z = Z.reshape(xx.shape)\n",
    "\n",
    "    axarr[idx].contourf(xx, yy, Z, alpha=0.3)\n",
    "    axarr[idx].scatter(X_train[y_train == 0, 0],\n",
    "                       X_train[y_train == 0, 1],\n",
    "                       c='blue', marker='^')\n",
    "    axarr[idx].scatter(X_train[y_train == 1, 0],\n",
    "                       X_train[y_train == 1, 1],\n",
    "                       c='green', marker='o')\n",
    "    axarr[idx].set_title(tt)\n",
    "\n",
    "axarr[0].set_ylabel('Alcohol', fontsize=12)\n",
    "\n",
    "plt.tight_layout()\n",
    "plt.text(0, -0.2,\n",
    "         s='OD280/OD315 of diluted wines',\n",
    "         ha='center',\n",
    "         va='center',\n",
    "         fontsize=12,\n",
    "         transform=axarr[1].transAxes)\n",
    "plt.show()"
   ]
  },
  {
   "cell_type": "markdown",
   "metadata": {},
   "source": [
    "결정 영역을 그려보면 에이다부스트 모델의 결정 경계가 깊이 1인 결정 트리의 결정 경계보다 확실히 더 복잡합니다. 또 에이다부스트 모델이 이전 절에서 훈련한 배깅 분류기와 매우 비슷하게 특성 공간을 분할하고 있습니다.  \n",
    "\n",
    "----------------------------------------------------\n",
    "앙상블 기법을 마무리하면서 언급할 점은, 앙상블 학습은 개별 분류기에 비해 계산 복잡도가 높다는 점입니다. 실전에서는 비교적 많지 않은 예측 성능 향상을 위해 계산 비용에 더 투자할 것인지 주의 깊게 생각해야 합니다.  \n",
    "이 트레이드 오프(trade-off)의 예로 주로 인용되는 것은 앙상블 기법을 사용해 우승자가 가려진 100만 달러 넷플릭스 대회(Netflix Prize)입니다. 자세한 알고리즘 내용은 [온라인](http://techblog.netflix.com/2012/04/netflix-recommendations-beyond-5-stars.html)에 공개되어 있습니다. 우승 팀은 100만 달러 상금을 받았지만 복잡도가 높아 실제 애플리케이션에 적용하기 어렵기 때문에 넷플릭스는 이 모델을 구현하지 않았습니다.  \n",
    "> \"새로운 방법들을 오프라인에서 평가했지만 추가로 얻을 수 있는 정확도 향상이 운영 시스템에 적용하기 위해 필요한 노력만큼 가치 있어 보이지 않았습니다.\""
   ]
  },
  {
   "cell_type": "code",
   "execution_count": null,
   "metadata": {},
   "outputs": [],
   "source": []
  }
 ],
 "metadata": {
  "kernelspec": {
   "display_name": "base",
   "language": "python",
   "name": "python3"
  },
  "language_info": {
   "codemirror_mode": {
    "name": "ipython",
    "version": 3
   },
   "file_extension": ".py",
   "mimetype": "text/x-python",
   "name": "python",
   "nbconvert_exporter": "python",
   "pygments_lexer": "ipython3",
   "version": "3.9.13"
  }
 },
 "nbformat": 4,
 "nbformat_minor": 2
}
