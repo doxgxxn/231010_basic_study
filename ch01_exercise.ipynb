{
 "cells": [
  {
   "cell_type": "markdown",
   "metadata": {},
   "source": [
    "# Chapter 1 - Exercise (연습문제)\n",
    "문제를 기재한 마크다운 블록 아래에 파이썬 코드 블록이 한 개씩 주어집니다. 주어진 코드 블록 안에서 문제를 푸세요. 소문제가 여러 개 주어질 경우 코드 블록을 여러 개 추가해도 괜찮습니다. 단, 소문제가 주어질 때 주석으로 몇 번 소문제인지 꼭! 기재해주세요. 아래 방식과 비슷하게 해주시면 됩니다.\n",
    "```Python\n",
    "# 소문제 1 답안.\n",
    "### 어쩌구저쩌구\n",
    "# 소문제 2 답안.\n",
    "```"
   ]
  },
  {
   "cell_type": "code",
   "execution_count": 1,
   "metadata": {},
   "outputs": [],
   "source": [
    "# 이 블록 먼저 실행시키고 문제를 푸세요.\n",
    "import numpy as np"
   ]
  },
  {
   "cell_type": "code",
   "execution_count": null,
   "metadata": {},
   "outputs": [],
   "source": [
    "np.arange(1, 10000)[np.where(np.arange(1, 10000) % 4 !=0 & np.arange(1,10000) % 7 != 0)]"
   ]
  },
  {
   "cell_type": "code",
   "execution_count": 17,
   "metadata": {},
   "outputs": [
    {
     "name": "stdout",
     "output_type": "stream",
     "text": [
      "[   1    2    3 ... 9997 9998 9999]\n"
     ]
    }
   ],
   "source": [
    "result = np.arange(1, 10000)[np.where((np.arange(1, 10000) % 4 != 0) & (np.arange(1, 10000) % 7 != 0))]\n",
    "print(result)"
   ]
  },
  {
   "cell_type": "markdown",
   "metadata": {},
   "source": [
    "## 문제 1. 넘파이 기본 함수\n",
    "0부터 10000까지의 수 중 4 또는 7로 나누어지는 수를 제외한 합을 구하세요. 단, `print()` 함수를 사용하는 경우를 제외하면, 딱 한 줄의 코드로 풀어야 합니다(`print()`를 꼭 사용하지 않아도 괜찮지만, 반드시 결과값이 출력되어야 합니다).  "
   ]
  },
  {
   "cell_type": "code",
   "execution_count": 19,
   "metadata": {},
   "outputs": [
    {
     "name": "stdout",
     "output_type": "stream",
     "text": [
      "32147142\n"
     ]
    }
   ],
   "source": [
    "result = np.arange(1, 10000)[np.where((np.arange(1, 10000) % 4 != 0) & (np.arange(1, 10000) % 7 != 0))].sum()\n",
    "print(result)"
   ]
  },
  {
   "cell_type": "markdown",
   "metadata": {},
   "source": [
    "## 문제 2. ndarray 및 통계 일반\n",
    "$y=e^{-x/10}\\sin\\left(x\\right)$에 대하여 $x$가 $\\left[0,10 \\right]$에서 10000개의 간격으로 분할되었다고 가정합시다.  \n",
    "1. `np.arange()` 함수를 활용해 구간 $\\left[0,10 \\right]$을 10000개의 간격으로 분할한 ndarray를 출력하세요.\n",
    "2. $x$ 범위 $\\left[ 0,10 \\right]$에서 함수 $y$를 plot하세요. `matplotlib.pyplot`을 import해서 그려도 좋습니다(기본 파트 4단원 자료 참고).  \n",
    "3. $x$ 범위 $\\left[ 4,7 \\right]$에서 $y$의 평균과 표준편차를 계산하세요.  \n",
    "4. $x$ 범위 $\\left[ 4,7 \\right]$에서, 전체 $y$ 값들의 80%가 $y_m$보다 작아지는 수 $y_m$의 값을 찾으세요."
   ]
  },
  {
   "cell_type": "code",
   "execution_count": 21,
   "metadata": {},
   "outputs": [],
   "source": [
    "# 소문제 1.\n",
    "\n",
    "x = np.linspace(0, 10, 10000)\n",
    "y = np.exp(-x/10) * np.sin(x)"
   ]
  },
  {
   "cell_type": "code",
   "execution_count": 30,
   "metadata": {},
   "outputs": [
    {
     "data": {
      "image/png": "[encoded data removed]",
      "text/plain": [
       "<Figure size 700x500 with 1 Axes>"
      ]
     },
     "metadata": {},
     "output_type": "display_data"
    }
   ],
   "source": [
    "# 소문제 2.\n",
    "import matplotlib.pyplot as plt\n",
    "\n",
    "plt.figure(figsize=(7,5))\n",
    "plt.plot(x, y)\n",
    "plt.show()"
   ]
  },
  {
   "cell_type": "code",
   "execution_count": 35,
   "metadata": {},
   "outputs": [
    {
     "name": "stdout",
     "output_type": "stream",
     "text": [
      "평균 = -0.2956362863932012\n",
      "표준편차 = 0.3144532369395424\n"
     ]
    },
    {
     "data": {
      "text/plain": [
       "(None, None)"
      ]
     },
     "execution_count": 35,
     "metadata": {},
     "output_type": "execute_result"
    }
   ],
   "source": [
    "# 소문제 3.\n",
    "\n",
    "# x 범위 [4, 7]에서의 y 값들을 추출\n",
    "x_range = (x >= 4) & (x <= 7)\n",
    "y_range = y[x_range]\n",
    "\n",
    "# 평균과 표준편차 계산\n",
    "mean_y = np.mean(y_range)\n",
    "std_y = np.std(y_range)\n",
    "print('평균 =', mean_y), print('표준편차 =', std_y)"
   ]
  },
  {
   "cell_type": "code",
   "execution_count": 37,
   "metadata": {},
   "outputs": [
    {
     "data": {
      "text/plain": [
       "0.061372680560897265"
      ]
     },
     "execution_count": 37,
     "metadata": {},
     "output_type": "execute_result"
    }
   ],
   "source": [
    "# 소문제 4.\n",
    "\n",
    "percentile80 = np.percentile(y_range, 80)\n",
    "percentile80"
   ]
  },
  {
   "cell_type": "markdown",
   "metadata": {},
   "source": [
    "## 문제 3. 함수 - 브로드캐스팅\n",
    "두 함수 $f_1\\left(x\\right) = x^2+\\sin(\\frac{\\pi}{4}x)$와 $f_2\\left(x\\right) = e^{2x}+3\\cos(\\frac{\\pi}{2}x)$가 있다고 합시다. 어떤 행렬 $A$가 아래와 같이 주어집니다.  \n",
    "$$A=\\begin{bmatrix}-1 & 2 & -4 \\\\ 0.5 & -1.5 & 8 \\\\ 1 & 0 & -0.5 \\\\ 1 & -2 & -4\\end{bmatrix}$$  \n",
    "이 행렬의 1행과 2행에는 함수 $f_1$을, 3행과 4행에는 함수 $f_2$를 적용한 결과를 출력하려고 합니다. 단, 원주율 $\\pi$는 넘파이에서 `np.pi`로 호출해서 계산합니다.  \n",
    "1. 파이썬의 함수 정의 기능과 넘파이 `np.sin()`, `np.cos()`, `np.pi`(이거는 함수 아님!), `np.exp()` 함수를 이용해 두 함수 $f_1$과 $f_2$를 정의하세요.\n",
    "2. 주어진 행렬 $A$의 1행과 2행에는 함수 $f_1$을, 3행과 4행에는 함수 $f_2$를 적용해 그 결과를 담은 행렬 $B$를 출력하세요.\n",
    "3. 소문제 2에서 계산한 행렬 $B$를 $2\\times 6$ 크기와 $12\\times 1$ 크기의 배열로 `reshape`하세요."
   ]
  },
  {
   "cell_type": "code",
   "execution_count": 40,
   "metadata": {},
   "outputs": [],
   "source": [
    "# 소문제 1.\n",
    "\n",
    "def f1(x):\n",
    "    return x**2 + np.sin(np.pi/4 * x)\n",
    "\n",
    "def f2(x):\n",
    "    return np.exp(2 * x) + 3 * np.cos(np.pi/2 * x)"
   ]
  },
  {
   "cell_type": "code",
   "execution_count": 65,
   "metadata": {},
   "outputs": [
    {
     "name": "stdout",
     "output_type": "stream",
     "text": [
      "[[ 0.29289322  5.         16.        ]\n",
      " [ 0.63268343  1.32612047 64.        ]] [[ 7.3890561   4.          2.48919978]\n",
      " [ 7.3890561  -2.98168436  3.00033546]]\n",
      "[[ 7.3890561   4.          2.48919978]\n",
      " [ 7.3890561  -2.98168436  3.00033546]]\n"
     ]
    },
    {
     "data": {
      "text/plain": [
       "array([[ 0.29289322,  5.        , 16.        ],\n",
       "       [ 0.63268343,  1.32612047, 64.        ],\n",
       "       [ 7.3890561 ,  4.        ,  2.48919978],\n",
       "       [ 7.3890561 , -2.98168436,  3.00033546]])"
      ]
     },
     "execution_count": 65,
     "metadata": {},
     "output_type": "execute_result"
    }
   ],
   "source": [
    "# 소문제 2. \n",
    "## 아래에 정의해놓은 행렬 A의 데이터를 사용하면 됩니다.\n",
    "A = np.array([[-1, 2, -4],\n",
    "              [0.5, -1.5, 8],\n",
    "              [1, 0, -0.5],\n",
    "              [1, -2, -4]])\n",
    "\n",
    "a,b = f1(A[:2,:]), f2(A[2:,:])\n",
    "\n",
    "print(a)\n",
    "print(b)\n",
    "B = np.vstack([a,b]) #concatenate 도 가능\n",
    "B"
   ]
  },
  {
   "cell_type": "code",
   "execution_count": 66,
   "metadata": {},
   "outputs": [
    {
     "name": "stdout",
     "output_type": "stream",
     "text": [
      "[[ 0.29289322  5.         16.          0.63268343  1.32612047 64.        ]\n",
      " [ 7.3890561   4.          2.48919978  7.3890561  -2.98168436  3.00033546]] /// shape =  (2, 6)\n",
      "---------------------------------------\n",
      "[[ 0.29289322]\n",
      " [ 5.        ]\n",
      " [16.        ]\n",
      " [ 0.63268343]\n",
      " [ 1.32612047]\n",
      " [64.        ]\n",
      " [ 7.3890561 ]\n",
      " [ 4.        ]\n",
      " [ 2.48919978]\n",
      " [ 7.3890561 ]\n",
      " [-2.98168436]\n",
      " [ 3.00033546]] /// shape =  (12, 1)\n"
     ]
    }
   ],
   "source": [
    "# 소문제 3.\n",
    "B_reshape = B.reshape(2, -1)\n",
    "print(B_reshape, '/// shape = ' , B_reshape.shape)\n",
    "\n",
    "print('---------------------------------------')\n",
    "\n",
    "B_reshape = B.reshape(-1, 1)\n",
    "print(B_reshape, '/// shape = ' , B_reshape.shape)"
   ]
  },
  {
   "cell_type": "code",
   "execution_count": null,
   "metadata": {},
   "outputs": [],
   "source": []
  }
 ],
 "metadata": {
  "kernelspec": {
   "display_name": "base",
   "language": "python",
   "name": "python3"
  },
  "language_info": {
   "codemirror_mode": {
    "name": "ipython",
    "version": 3
   },
   "file_extension": ".py",
   "mimetype": "text/x-python",
   "name": "python",
   "nbconvert_exporter": "python",
   "pygments_lexer": "ipython3",
   "version": "3.11.1"
  },
  "orig_nbformat": 4
 },
 "nbformat": 4,
 "nbformat_minor": 2
}
